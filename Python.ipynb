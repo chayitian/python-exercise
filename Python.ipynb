{
 "cells": [
  {
   "cell_type": "markdown",
   "id": "56bd8a10",
   "metadata": {},
   "source": [
    "# 一、基础语法入门\n",
    "## 题目 1：Hello World 与基础运算\n",
    "输出 \"Hello Python World!\"\n",
    "\n",
    "计算 3 + 4 * 2 和 (3 + 4) * 2 的结果\n",
    "\n",
    "用变量存储姓名和年龄，输出 \"我的名字是 XXX，年龄是 XX 岁\"\n",
    "### 预期输出：\n",
    "Hello Python World!\n",
    "11 14\n",
    "我的名字是张三，年龄是20岁"
   ]
  },
  {
   "cell_type": "code",
   "execution_count": null,
   "id": "b4a04262",
   "metadata": {},
   "outputs": [],
   "source": []
  },
  {
   "cell_type": "markdown",
   "id": "b302b5ed",
   "metadata": {},
   "source": [
    "## 题目 2：数据类型转换\n",
    "将整数 42 转为浮点数，浮点数 3.14 转为整数，布尔值 True 转为整数\n",
    "\n",
    "将字符串 \"123\" 转为整数，字符串 \"45.6\" 转为浮点数\n",
    "### 预期输出：\n",
    "42.0, 3, 1\n",
    "\n",
    "123, 45.6"
   ]
  },
  {
   "cell_type": "code",
   "execution_count": null,
   "id": "8b690361",
   "metadata": {},
   "outputs": [],
   "source": []
  },
  {
   "cell_type": "markdown",
   "id": "e2fe4fd3",
   "metadata": {},
   "source": [
    "# 二、数据结构与容器\n",
    "## 题目 3：列表操作\n",
    "创建列表 nums = [1, 2, 3, 4, 5]\n",
    "\n",
    "    向列表末尾添加元素 6\n",
    "\n",
    "    修改第 3 个元素为 30\n",
    "\n",
    "    删除值为 4 的元素\n",
    "\n",
    "    反转列表并切片取出前 3 个元素\n",
    "\n",
    "### 预期输出：\n",
    "处理后的列表：[5, 2, 30, 6]"
   ]
  },
  {
   "cell_type": "code",
   "execution_count": null,
   "id": "e288f5d9",
   "metadata": {},
   "outputs": [],
   "source": []
  },
  {
   "cell_type": "markdown",
   "id": "504def85",
   "metadata": {},
   "source": [
    "## 题目 4：字典与集合\n",
    "创建字典 student = {\"name\": \"Alice\", \"age\": 20, \"score\": 85}\n",
    "\n",
    "    添加键值对 \"gender\": \"female\"\n",
    "\n",
    "    将分数改为 90，并删除年龄字段\n",
    "\n",
    "    创建集合 s1 = {1, 2, 3}, s2 = {3, 4, 5}，求并集、交集、差集\n",
    "\n",
    "### 预期输出：\n",
    "字典：{\"name\": \"Alice\", \"score\": 90, \"gender\": \"female\"}\n",
    "\n",
    "集合运算：{1,2,3,4,5}, {3}, {1,2}"
   ]
  },
  {
   "cell_type": "code",
   "execution_count": null,
   "id": "e7d99251",
   "metadata": {},
   "outputs": [],
   "source": []
  },
  {
   "cell_type": "markdown",
   "id": "76d650f6",
   "metadata": {},
   "source": [
    "# 三、控制流程\n",
    "## 题目 5：条件语句\n",
    "输入一个整数 n（模拟用户输入，可手动赋值），判断：\n",
    "\n",
    "    若 n 是偶数且大于 10，输出 \"大偶数\"\n",
    "\n",
    "    若 n 是奇数且小于等于 10，输出 \"小奇数\"\n",
    "\n",
    "    否则输出 \"其他\"\n",
    "\n",
    "示例输入：12 → 输出：\"大偶数\"\n",
    "\n",
    "示例输入：5 → 输出：\"小奇数\""
   ]
  },
  {
   "cell_type": "code",
   "execution_count": null,
   "id": "7cccf568",
   "metadata": {},
   "outputs": [],
   "source": []
  },
  {
   "cell_type": "markdown",
   "id": "4569b91a",
   "metadata": {},
   "source": [
    "## 题目 6：循环语句\n",
    "用 for 循环打印 1 到 10 的平方（1, 4, 9, ..., 100）\n",
    "\n",
    "用 while 循环计算 1 到 100 的和\n",
    "\n",
    "### 预期输出：\n",
    "平方序列：1 4 9 16 25 36 49 64 81 100\n",
    "\n",
    "和：5050"
   ]
  },
  {
   "cell_type": "code",
   "execution_count": null,
   "id": "b8e65bd1",
   "metadata": {},
   "outputs": [],
   "source": []
  },
  {
   "cell_type": "markdown",
   "id": "82f1f9da",
   "metadata": {},
   "source": [
    "# 四、函数与模块化\n",
    "## 题目 7：自定义函数\n",
    "定义函数 factorial(n) 计算阶乘（递归或循环实现）\n",
    "\n",
    "定义函数 is_prime(n) 判断是否为质数\n",
    "\n",
    " 测试用例：\n",
    " \n",
    "factorial(5) → 120\n",
    "\n",
    "is_prime(7) → True，is_prime(12) → False"
   ]
  },
  {
   "cell_type": "code",
   "execution_count": null,
   "id": "9bb60444",
   "metadata": {},
   "outputs": [],
   "source": []
  },
  {
   "cell_type": "markdown",
   "id": "c11da5ac",
   "metadata": {},
   "source": [
    "## 题目 8：模块导入\n",
    "导入 math 模块，计算 sqrt(25) 和 pi 的值\n",
    "\n",
    "从 random 模块导入 randint，生成 1-100 的随机数\n",
    "\n",
    "### 预期输出：\n",
    "5.0, 3.141592653589793\n",
    "\n",
    "随机数（如 47）"
   ]
  },
  {
   "cell_type": "code",
   "execution_count": null,
   "id": "8c1c9192",
   "metadata": {},
   "outputs": [],
   "source": []
  },
  {
   "cell_type": "markdown",
   "id": "80f99d7e",
   "metadata": {},
   "source": [
    "# 五、文件操作\n",
    "## 题目 9：文件读写\n",
    "创建文件 data.txt，写入三行内容：\n",
    "\n",
    "Hello\n",
    "\n",
    "Python\n",
    "\n",
    "World\n",
    "\n",
    "读取文件内容并打印每行，同时统计行数\n",
    "\n",
    "### 预期输出：\n",
    "打印内容（略），行数：3"
   ]
  },
  {
   "cell_type": "code",
   "execution_count": null,
   "id": "b5661634",
   "metadata": {},
   "outputs": [],
   "source": []
  },
  {
   "cell_type": "markdown",
   "id": "78468644",
   "metadata": {},
   "source": [
    "## 题目 10：JSON 数据处理\n",
    "导入 json 模块，将字典 {\"name\": \"Bob\", \"age\": 25} 写入 data.json\n",
    "\n",
    "读取 data.json 并打印解析后的内容\n",
    "\n",
    "### 预期输出：\n",
    "{'name': 'Bob', 'age': 25}"
   ]
  },
  {
   "cell_type": "code",
   "execution_count": null,
   "id": "8dcd8d80",
   "metadata": {},
   "outputs": [],
   "source": []
  },
  {
   "cell_type": "markdown",
   "id": "466b061e",
   "metadata": {},
   "source": [
    "# 六、面向对象编程\n",
    "## 题目 11：类与对象\n",
    "定义 Circle 类，包含属性 radius，方法：\n",
    "\n",
    "    area() 计算面积\n",
    "\n",
    "    perimeter() 计算周长\n",
    "\n",
    "创建半径为 5 的圆实例，调用方法输出面积和周长\n",
    "\n",
    "### 预期输出：\n",
    "面积：78.53981633974483，周长：31.41592653589793"
   ]
  },
  {
   "cell_type": "code",
   "execution_count": null,
   "id": "32359842",
   "metadata": {},
   "outputs": [],
   "source": []
  },
  {
   "cell_type": "markdown",
   "id": "72df4554",
   "metadata": {},
   "source": [
    "## 题目 12：继承与多态\n",
    "定义父类 Animal，方法 speak() 输出 \"动物叫\"\n",
    "\n",
    "定义子类 Dog 和 Cat，重写 speak() 分别输出 \"汪汪\" 和 \"喵喵\"\n",
    "\n",
    "创建子类实例并调用 speak()\n",
    "\n",
    "### 预期输出：\n",
    "汪汪, 喵喵"
   ]
  },
  {
   "cell_type": "code",
   "execution_count": null,
   "id": "94535bd8",
   "metadata": {},
   "outputs": [],
   "source": []
  },
  {
   "cell_type": "markdown",
   "id": "dac49cfc",
   "metadata": {},
   "source": [
    "# 七、异常处理\n",
    "## 题目 13：错误处理\n",
    "编写代码，尝试读取不存在的文件 nonexist.txt，用 try-except 捕获文件不存在异常\n",
    "\n",
    "提示用户输入一个整数，若输入非数字，捕获 ValueError 并提示 \"请输入有效整数\"\n",
    "\n",
    "### 预期输出：\n",
    "异常提示：\"文件不存在\" 或 \"请输入有效整数\""
   ]
  },
  {
   "cell_type": "code",
   "execution_count": null,
   "id": "cb8a32b1",
   "metadata": {},
   "outputs": [],
   "source": []
  },
  {
   "cell_type": "markdown",
   "id": "07c7adbd",
   "metadata": {},
   "source": [
    "# 八、标准库与高级特性\n",
    "## 题目 14：生成器与迭代器\n",
    "用生成器函数 fibonacci(n) 生成前 n 个斐波那契数\n",
    "\n",
    "遍历生成器并打印结果（如 n=5 时输出 1, 1, 2, 3, 5）\n",
    "\n",
    "### 预期输出：\n",
    "1 1 2 3 5"
   ]
  },
  {
   "cell_type": "code",
   "execution_count": null,
   "id": "995f414f",
   "metadata": {},
   "outputs": [],
   "source": []
  },
  {
   "cell_type": "markdown",
   "id": "a21becfd",
   "metadata": {},
   "source": [
    "## 题目 15：装饰器应用\n",
    "定义装饰器 timer，统计函数运行时间\n",
    "\n",
    "用装饰器修饰一个计算列表平方的函数 square_list(lst)\n",
    "\n",
    "示例调用：square_list([1,2,3,4,5]) → 输出结果和运行时间\n",
    "\n",
    "### 预期输出：\n",
    "[1,4,9,16,25]，运行时间（如 0.0001s）"
   ]
  },
  {
   "cell_type": "code",
   "execution_count": null,
   "id": "deb67b28",
   "metadata": {},
   "outputs": [],
   "source": []
  },
  {
   "cell_type": "markdown",
   "id": "25580f4a",
   "metadata": {},
   "source": [
    "# 九、实战应用\n",
    "## 题目 16：学生成绩管理系统\n",
    "用列表存储学生信息（字典格式，包含姓名、成绩）\n",
    "\n",
    "实现功能：\n",
    "\n",
    "    添加学生（输入姓名和成绩）\n",
    "\n",
    "    查询学生成绩（输入姓名，输出成绩）\n",
    "\n",
    "    计算平均分\n",
    "\n",
    "交互示例：\n",
    "添加学生：张三 90  \n",
    "\n",
    "添加学生：李四 85  \n",
    "\n",
    "查询张三成绩：90  \n",
    "\n",
    "平均分：87.5  "
   ]
  },
  {
   "cell_type": "code",
   "execution_count": null,
   "id": "fcc893dc",
   "metadata": {},
   "outputs": [],
   "source": []
  },
  {
   "cell_type": "markdown",
   "id": "497f276a",
   "metadata": {},
   "source": [
    "## 题目 17：网络请求（需安装 requests 库）\n",
    "用 requests 库发送 GET 请求到 https://api.github.com/users/your_username\n",
    "\n",
    "解析返回的 JSON 数据，打印用户的仓库数量（public_repos 字段）\n",
    "\n",
    "### 预期输出：\n",
    "仓库数量：XX"
   ]
  },
  {
   "cell_type": "code",
   "execution_count": null,
   "id": "1da1625c",
   "metadata": {},
   "outputs": [],
   "source": []
  }
 ],
 "metadata": {
  "kernelspec": {
   "display_name": "Python 3",
   "language": "python",
   "name": "python3"
  },
  "language_info": {
   "name": "python",
   "version": "3.9.6"
  }
 },
 "nbformat": 4,
 "nbformat_minor": 5
}
