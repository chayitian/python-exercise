{
 "cells": [
  {
   "cell_type": "markdown",
   "id": "2561f013",
   "metadata": {},
   "source": [
    "# 一、基础统计与数据预处理\n",
    "## 题目 1：描述性统计分析\n",
    "数据：使用statsmodels库中的stata数据集\"auto.dta\"（汽车数据集，包含价格、马力、重量等变量）。\n",
    "\n",
    "任务：\n",
    "\n",
    "1.加载数据并查看前 5 行。\n",
    "\n",
    "2.计算各变量的均值、中位数、标准差、分位数（25%、75%）。\n",
    "\n",
    "3.绘制 \"价格（price）\" 的直方图和箱线图，分析分布特征。\n",
    "\n",
    "4.统计 \"进口车（import）\" 的数量占比（0 = 非进口，1 = 进口）。"
   ]
  },
  {
   "cell_type": "code",
   "execution_count": null,
   "id": "f7b62edb",
   "metadata": {},
   "outputs": [],
   "source": []
  },
  {
   "cell_type": "markdown",
   "id": "7033b224",
   "metadata": {},
   "source": [
    "## 题目 2：缺失值处理与数据转换\n",
    "数据：自定义含缺失值的数据集（或使用statsmodels的\"cancer.dta\"）。\n",
    "\n",
    "任务：\n",
    "\n",
    "1.检查数据中缺失值的位置和比例。\n",
    "\n",
    "2.用均值 / 中位数填充数值型变量的缺失值，用众数填充分类型变量。\n",
    "\n",
    "3.将分类型变量 \"产地（origin）\"（1 = 美国，2 = 欧洲，3 = 日本）转换为虚拟变量。"
   ]
  },
  {
   "cell_type": "code",
   "execution_count": null,
   "id": "2da8c102",
   "metadata": {},
   "outputs": [],
   "source": []
  },
  {
   "cell_type": "markdown",
   "id": "740c8f8e",
   "metadata": {},
   "source": [
    "# 二、单变量回归分析\n",
    "## 题目 3：简单线性回归（OLS）\n",
    "数据：auto.dta中price（因变量）与mpg（自变量，油耗）。\n",
    "\n",
    "任务：\n",
    "\n",
    "1.建立price ~ mpg的线性回归模型，用 OLS 估计参数。\n",
    "\n",
    "2.输出回归结果摘要（包含系数、标准误、t 值、p 值、R²）。\n",
    "\n",
    "3.解释回归系数的经济意义，判断油耗与价格的关系是否显著。\n",
    "\n",
    "4.绘制残差图（残差 vs 拟合值），观察是否存在异方差趋势。"
   ]
  },
  {
   "cell_type": "code",
   "execution_count": null,
   "id": "2e127176",
   "metadata": {},
   "outputs": [],
   "source": []
  },
  {
   "cell_type": "markdown",
   "id": "5c3e5880",
   "metadata": {},
   "source": [
    "## 题目 4：回归诊断：异方差检验\n",
    "数据：同上题回归模型。\n",
    "\n",
    "任务：\n",
    "\n",
    "1.执行怀特检验（White Test）和布罗施 - 帕甘检验（BP Test）。\n",
    "\n",
    "2.根据检验结果判断是否存在异方差。\n",
    "\n",
    "3.若存在异方差，尝试用加权最小二乘法（WLS）重新估计模型。"
   ]
  },
  {
   "cell_type": "code",
   "execution_count": null,
   "id": "5e7c15a6",
   "metadata": {},
   "outputs": [],
   "source": []
  },
  {
   "cell_type": "markdown",
   "id": "c0798850",
   "metadata": {},
   "source": [
    "# 三、多元回归与模型优化\n",
    "## 题目 5：多元线性回归与多重共线性\n",
    "数据：auto.dta中price（因变量），自变量包含mpg、weight、horsepower、length。\n",
    "\n",
    "任务：\n",
    "\n",
    "1.建立多元回归模型，输出结果摘要。\n",
    "\n",
    "2.计算各自变量的方差膨胀因子（VIF），判断是否存在多重共线性。\n",
    "\n",
    "3.若存在共线性，尝试通过剔除变量或岭回归（Ridge Regression）优化模型。"
   ]
  },
  {
   "cell_type": "code",
   "execution_count": null,
   "id": "b3692765",
   "metadata": {},
   "outputs": [],
   "source": []
  },
  {
   "cell_type": "markdown",
   "id": "02a32a50",
   "metadata": {},
   "source": [
    "## 题目 6：虚拟变量与交互项\n",
    "数据：auto.dta，新增虚拟变量import（是否进口车）。\n",
    "\n",
    "任务：\n",
    "\n",
    "1.建立包含import的回归模型：price ~ mpg + weight + import。\n",
    "\n",
    "2.加入import与mpg的交互项，分析进口车的油耗对价格的影响是否存在差异。\n",
    "\n",
    "3.解释虚拟变量和交互项系数的含义。"
   ]
  },
  {
   "cell_type": "code",
   "execution_count": null,
   "id": "c8f9af51",
   "metadata": {},
   "outputs": [],
   "source": []
  },
  {
   "cell_type": "markdown",
   "id": "f77f4d89",
   "metadata": {},
   "source": [
    "# 四、时间序列分析\n",
    "## 题目 7：平稳性检验与 ARIMA 模型\n",
    "数据：statsmodels库中的\"nile.csv\"（尼罗河年流量数据）。\n",
    "\n",
    "任务：\n",
    "\n",
    "1.绘制时间序列图，观察趋势和季节性。\n",
    "\n",
    "2.执行 ADF 检验，判断序列是否平稳。\n",
    "\n",
    "3.若不平稳，通过差分使其平稳，确定 ARIMA 模型的(p,d,q)参数。\n",
    "\n",
    "4.建立 ARIMA 模型并预测未来 5 期流量。"
   ]
  },
  {
   "cell_type": "code",
   "execution_count": null,
   "id": "39b58e9f",
   "metadata": {},
   "outputs": [],
   "source": []
  },
  {
   "cell_type": "markdown",
   "id": "471d88bc",
   "metadata": {},
   "source": [
    "## 题目 8：VAR 模型与格兰杰因果检验\n",
    "数据：自定义两变量时间序列（如 GDP 与消费数据）。\n",
    "\n",
    "任务：\n",
    "\n",
    "1.检验两变量的平稳性，若非平稳则进行协整检验（Engle-Granger 法）。\n",
    "\n",
    "2.建立向量自回归（VAR）模型，确定最优滞后阶数。\n",
    "\n",
    "3.进行格兰杰因果检验，判断变量间的因果关系。"
   ]
  },
  {
   "cell_type": "code",
   "execution_count": null,
   "id": "dad8ab7b",
   "metadata": {},
   "outputs": [],
   "source": []
  },
  {
   "cell_type": "markdown",
   "id": "798f7c2a",
   "metadata": {},
   "source": [
    "# 五、面板数据模型\n",
    "## 题目 9：固定效应与随机效应模型\n",
    "数据：statsmodels的\"mroz.dta\"（女性劳动供给面板数据）。\n",
    "\n",
    "任务：\n",
    "\n",
    "1.建立面板数据结构（个体 - 时间维度）。\n",
    "\n",
    "2.分别估计固定效应模型（FE）和随机效应模型（RE）。\n",
    "\n",
    "3.执行豪斯曼检验（Hausman Test），选择合适的模型。\n",
    "\n",
    "4.解释模型中个体效应的含义。"
   ]
  },
  {
   "cell_type": "code",
   "execution_count": null,
   "id": "b1bd4e36",
   "metadata": {},
   "outputs": [],
   "source": []
  },
  {
   "cell_type": "markdown",
   "id": "02c0c8b0",
   "metadata": {},
   "source": [
    "# 六、高级专题（选做）\n",
    "## 题目 10：工具变量法（IV）与两阶段最小二乘法（2SLS）\n",
    "数据：auto.dta，用weight作为内生变量，寻找工具变量（如length与displacement的组合）。\n",
    "\n",
    "任务：\n",
    "\n",
    "1.识别模型中的内生性问题（如weight与误差项相关）。\n",
    "\n",
    "2.用 2SLS 估计模型，比较 OLS 与 IV 估计结果的差异。\n",
    "\n",
    "3.检验工具变量的相关性和外生性（如弱工具变量检验）。"
   ]
  },
  {
   "cell_type": "code",
   "execution_count": null,
   "id": "6df7bed5",
   "metadata": {},
   "outputs": [],
   "source": []
  }
 ],
 "metadata": {
  "kernelspec": {
   "display_name": "Python 3",
   "language": "python",
   "name": "python3"
  },
  "language_info": {
   "name": "python",
   "version": "3.9.6"
  }
 },
 "nbformat": 4,
 "nbformat_minor": 5
}
