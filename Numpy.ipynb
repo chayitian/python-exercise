{
 "cells": [
  {
   "cell_type": "markdown",
   "id": "ca5dcee9",
   "metadata": {},
   "source": [
    "# 一、基础数组创建\n",
    "## 题目 1：创建基础数组\n",
    "用列表创建一个一维数组 arr1：[1, 2, 3, 4, 5]\n",
    "\n",
    "用函数创建一个全零的二维数组 arr2：形状为 (3, 4)，数据类型为整数\n",
    "\n",
    "用函数创建一个全一的三维数组 arr3：形状为 (2, 2, 2)\n",
    "\n",
    "用 arange 创建数组 arr4：从 0 到 10（不包含 10），步长为 1.5\n",
    "\n",
    "### 预期输出：\n",
    "打印所有数组的内容和数据类型"
   ]
  },
  {
   "cell_type": "code",
   "execution_count": null,
   "id": "0ae5ce18",
   "metadata": {},
   "outputs": [],
   "source": []
  },
  {
   "cell_type": "markdown",
   "id": "946e75d2",
   "metadata": {},
   "source": [
    "## 题目 2：创建特殊数组\n",
    "创建数组 arr5：元素为 [0, 1, 2, 3, 4, 5] 的逆序\n",
    "\n",
    "创建对角矩阵 arr6：对角线元素为 [1, 2, 3]，形状为 (3, 4)\n",
    "\n",
    "创建等间隔数组 arr7：从 1 到 10，包含 5 个元素\n",
    "\n",
    "### 预期输出：\n",
    "打印 arr5、arr6、arr7"
   ]
  },
  {
   "cell_type": "code",
   "execution_count": null,
   "id": "d620d1d0",
   "metadata": {},
   "outputs": [],
   "source": []
  },
  {
   "cell_type": "markdown",
   "id": "828a6327",
   "metadata": {},
   "source": [
    "# 二、数组基本属性与操作\n",
    "## 题目 3：查看数组属性\n",
    "现有数组 arr = np.array([[1, 2, 3], [4, 5, 6]])\n",
    "\n",
    "输出其形状、维度、元素个数、数据类型、每个元素占用字节数\n",
    "\n",
    "### 预期输出：\n",
    "类似 shape: (2, 3), ndim: 2, size: 6, dtype: int64, itemsize: 8"
   ]
  },
  {
   "cell_type": "code",
   "execution_count": null,
   "id": "0eefd6a9",
   "metadata": {},
   "outputs": [],
   "source": []
  },
  {
   "cell_type": "markdown",
   "id": "e9afd01d",
   "metadata": {},
   "source": [
    "## 题目 4：修改数组形状\n",
    "将数组 arr = np.arange(12) 转换为：\n",
    "\n",
    "    二维数组 arr2d，形状为 (3, 4)\n",
    "\n",
    "    三维数组 arr3d，形状为 (2, 2, 3)\n",
    "\n",
    "    展平为一维数组 arr_flat（使用 flatten 和 ravel 两种方式）\n",
    "\n",
    "### 预期输出：\n",
    "打印所有变形后的数组"
   ]
  },
  {
   "cell_type": "code",
   "execution_count": null,
   "id": "733838e5",
   "metadata": {},
   "outputs": [],
   "source": []
  },
  {
   "cell_type": "markdown",
   "id": "25738ee6",
   "metadata": {},
   "source": [
    "# 三、索引与切片\n",
    "## 题目 5：一维数组索引\n",
    "数组 arr = np.array([10, 20, 30, 40, 50, 60])\n",
    "\n",
    "取出第 3 个元素（索引从 0 开始）\n",
    "\n",
    "取出前 4 个元素\n",
    "\n",
    "取出从第 2 个到倒数第 2 个元素（步长为 2）\n",
    "\n",
    "### 预期输出：\n",
    "30, [10 20 30 40], [20 40]"
   ]
  },
  {
   "cell_type": "code",
   "execution_count": null,
   "id": "aee161f4",
   "metadata": {},
   "outputs": [],
   "source": []
  },
  {
   "cell_type": "markdown",
   "id": "9996684b",
   "metadata": {},
   "source": [
    "## 题目 6：二维数组切片\n",
    "数组 arr = np.array([[1, 2, 3], [4, 5, 6], [7, 8, 9]])\n",
    "\n",
    "取出第 2 行（整行）\n",
    "\n",
    "取出前两行、前两列的子数组\n",
    "\n",
    "取出对角线元素 [1, 5, 9]\n",
    "\n",
    "### 预期输出：\n",
    "[4 5 6], [[1 2], [4 5]], [1 5 9]"
   ]
  },
  {
   "cell_type": "code",
   "execution_count": null,
   "id": "211df670",
   "metadata": {},
   "outputs": [],
   "source": []
  },
  {
   "cell_type": "markdown",
   "id": "f472d6a2",
   "metadata": {},
   "source": [
    "## 题目 7：布尔索引\n",
    "数组 arr = np.array([1, 2, 3, 4, 5, 6])\n",
    "\n",
    "筛选出大于 3 的元素\n",
    "\n",
    "将小于等于 2 的元素设置为 0\n",
    "\n",
    "### 预期输出：\n",
    "筛选结果 [4,5,6]，修改后数组 [0,0,3,4,5,6]"
   ]
  },
  {
   "cell_type": "code",
   "execution_count": null,
   "id": "ecb25ca9",
   "metadata": {},
   "outputs": [],
   "source": []
  },
  {
   "cell_type": "markdown",
   "id": "487c64f9",
   "metadata": {},
   "source": [
    "# 四、数组运算与广播\n",
    "## 题目 8：元素级运算\n",
    "数组 a = np.array([1, 2, 3])，b = np.array([4, 5, 6])\n",
    "\n",
    "计算 a + b、a * 2、b ** 2、np.sqrt(a)\n",
    "\n",
    "### 预期输出：\n",
    "[5,7,9], [2,4,6], [16,25,36], [1.0, 1.414..., 1.732...]"
   ]
  },
  {
   "cell_type": "code",
   "execution_count": null,
   "id": "1952899d",
   "metadata": {},
   "outputs": [],
   "source": []
  },
  {
   "cell_type": "markdown",
   "id": "5cbb0a7d",
   "metadata": {},
   "source": [
    "## 题目 9：广播机制\n",
    "数组 a = np.array([[1, 2, 3], [4, 5, 6]])\n",
    "\n",
    "数组 b = np.array([10, 20, 30])\n",
    "\n",
    "计算 a + b（利用广播）\n",
    "\n",
    "### 预期输出：\n",
    "[[11,22,33],[14,25,36]]"
   ]
  },
  {
   "cell_type": "code",
   "execution_count": null,
   "id": "e6d2c7bf",
   "metadata": {},
   "outputs": [],
   "source": []
  },
  {
   "cell_type": "markdown",
   "id": "607db265",
   "metadata": {},
   "source": [
    "## 题目 10：矩阵运算\n",
    "矩阵 A = np.array([[1, 2], [3, 4]])，B = np.array([[5, 6], [7, 8]])\n",
    "\n",
    "计算矩阵乘法 A @ B 和点积 np.dot(A, B)\n",
    "\n",
    "计算 A 的转置\n",
    "\n",
    "### 预期输出：\n",
    "乘积矩阵 [[19, 22], [43, 50]]，转置 [[1,3],[2,4]]"
   ]
  },
  {
   "cell_type": "code",
   "execution_count": null,
   "id": "3b39362a",
   "metadata": {},
   "outputs": [],
   "source": []
  },
  {
   "cell_type": "markdown",
   "id": "36cd7457",
   "metadata": {},
   "source": [
    "# 五、数据处理与统计\n",
    "## 题目 11：数组拼接与分割\n",
    "数组 a = np.array([1, 2, 3])，b = np.array([4, 5, 6])\n",
    "\n",
    "水平拼接为 [1,2,3,4,5,6]\n",
    "\n",
    "二维数组 c = np.array([[1,2],[3,4]])，d = np.array([[5,6],[7,8]])，垂直拼接为 [[1,2],[3,4],[5,6],[7,8]]\n",
    "\n",
    "将数组 np.arange(9) 水平分割为 3 个子数组\n",
    "\n",
    "### 预期输出：\n",
    "拼接结果和分割结果"
   ]
  },
  {
   "cell_type": "code",
   "execution_count": null,
   "id": "94fcb7b5",
   "metadata": {},
   "outputs": [],
   "source": []
  },
  {
   "cell_type": "markdown",
   "id": "c448ca3e",
   "metadata": {},
   "source": [
    "## 题目 12：统计函数\n",
    "数组 arr = np.array([[1, 3, 5], [2, 4, 6]])\n",
    "\n",
    "计算全局最大值、最小值、均值、标准差\n",
    "\n",
    "按行计算求和，按列计算平均值\n",
    "\n",
    "### 预期输出：\n",
    "最大值 6，均值 3.5，行和 [9,12]，列均值 [1.5, 3.5, 5.5]"
   ]
  },
  {
   "cell_type": "code",
   "execution_count": null,
   "id": "6ea6717c",
   "metadata": {},
   "outputs": [],
   "source": []
  },
  {
   "cell_type": "markdown",
   "id": "07ead821",
   "metadata": {},
   "source": [
    "# 六、文件操作与随机数\n",
    "## 题目 13：保存与加载数组\n",
    "创建随机数组 arr = np.random.rand(5, 5)（取值 0-1）\n",
    "\n",
    "保存到文件 random_array.npy\n",
    "\n",
    "从文件中加载数组并打印\n",
    "\n",
    "### 预期输出：\n",
    "打印加载后的数组"
   ]
  },
  {
   "cell_type": "code",
   "execution_count": null,
   "id": "2fdba5e3",
   "metadata": {},
   "outputs": [],
   "source": []
  },
  {
   "cell_type": "markdown",
   "id": "21330761",
   "metadata": {},
   "source": [
    "## 题目 14：随机数生成\n",
    "生成 10 个服从正态分布（均值 0，标准差 1）的随机数\n",
    "\n",
    "生成 5 个 0-10 之间的随机整数（包含 0 和 10）\n",
    "\n",
    "生成一个形状为 (3,3) 的随机排列数组（元素 0-8）\n",
    "\n",
    "### 预期输出：\n",
    "打印各随机数组"
   ]
  },
  {
   "cell_type": "code",
   "execution_count": null,
   "id": "4e02019a",
   "metadata": {},
   "outputs": [],
   "source": []
  },
  {
   "cell_type": "markdown",
   "id": "c2cc9a65",
   "metadata": {},
   "source": [
    "# 七、综合应用\n",
    "## 题目 15：数据清洗与分析\n",
    "生成一个形状为 (10, 3) 的随机数组，元素为 1-100 的整数\n",
    "\n",
    "将小于 20 的元素替换为 NaN（使用 np.nan）\n",
    "\n",
    "统计每列的非 NaN 元素个数\n",
    "\n",
    "删除全为 NaN 的行\n",
    "\n",
    "### 预期输出：\n",
    "处理后的数组、非 NaN 计数、删除后的数组"
   ]
  },
  {
   "cell_type": "code",
   "execution_count": null,
   "id": "264e3ede",
   "metadata": {},
   "outputs": [],
   "source": []
  }
 ],
 "metadata": {
  "kernelspec": {
   "display_name": "Python 3",
   "language": "python",
   "name": "python3"
  },
  "language_info": {
   "name": "python",
   "version": "3.9.6"
  }
 },
 "nbformat": 4,
 "nbformat_minor": 5
}
