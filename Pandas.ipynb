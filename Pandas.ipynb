{
 "cells": [
  {
   "cell_type": "markdown",
   "id": "c577a5cd",
   "metadata": {},
   "source": [
    "# 一、基础数据结构：Series 与 DataFrame\n",
    "## 题目 1：创建基础数据结构\n",
    "用列表创建 Series s1：[10, 20, 30, 40]，索引为['a', 'b', 'c', 'd']\n",
    "\n",
    "用字典创建 DataFrame df1：\n",
    "\n",
    "data = {\n",
    "\n",
    "    '姓名': ['Alice', 'Bob', 'Charlie'],\n",
    "\n",
    "    '年龄': [25, 30, 35],\n",
    "\n",
    "    '成绩': [85.5, 90.0, 78.5]\n",
    "\n",
    "}\n",
    "\n",
    "查看df1的前 2 行、数据类型、形状、列名\n",
    "\n",
    "### 预期输出：\n",
    "前 2 行内容、数据类型（如int64、float64）、形状(3, 3)、列名Index(['姓名', '年龄', '成绩'], dtype='object')"
   ]
  },
  {
   "cell_type": "code",
   "execution_count": null,
   "id": "2762f254",
   "metadata": {},
   "outputs": [],
   "source": []
  },
  {
   "cell_type": "markdown",
   "id": "213680e6",
   "metadata": {},
   "source": [
    "## 题目 2：数据结构属性与转换\n",
    "将df1的索引修改为['A', 'B', 'C']\n",
    "\n",
    "提取df1的'成绩'列作为 Series s2\n",
    "\n",
    "将s2转换为列表并打印\n",
    "\n",
    "### 预期输出：\n",
    "[85.5, 90.0, 78.5]"
   ]
  },
  {
   "cell_type": "code",
   "execution_count": null,
   "id": "0c2ef7e7",
   "metadata": {},
   "outputs": [],
   "source": []
  },
  {
   "cell_type": "markdown",
   "id": "32d97d54",
   "metadata": {},
   "source": [
    "# 二、数据索引与选择\n",
    "## 题目 3：基础索引操作\n",
    "现有 DataFrame df：\n",
    "\n",
    "df = pd.DataFrame({\n",
    "\n",
    "    '日期': ['2023-01-01', '2023-01-02', '2023-01-03'],\n",
    "\n",
    "    '销量': [100, 150, 120],\n",
    "\n",
    "    '库存': [500, 450, 480]\n",
    "\n",
    "}, index=[1, 2, 3])\n",
    "\n",
    "用[]选取'销量'列\n",
    "\n",
    "用.loc选取索引为 2 的行\n",
    "\n",
    "用.iloc选取第 0 行第 2 列元素（库存值）\n",
    "\n",
    "### 预期输出：\n",
    "销量列 Series、索引 2 的行、值450"
   ]
  },
  {
   "cell_type": "code",
   "execution_count": null,
   "id": "8c45e1b1",
   "metadata": {},
   "outputs": [],
   "source": []
  },
  {
   "cell_type": "markdown",
   "id": "25a0d300",
   "metadata": {},
   "source": [
    "## 题目 4：布尔索引与切片\n",
    "从df中筛选出销量 > 120的行\n",
    "\n",
    "筛选出库存在 450 到 500 之间的行（包含边界）\n",
    "\n",
    "### 预期输出：\n",
    "符合条件的 DataFrame（如索引 2 的行被排除，索引 1 和 3 的行保留）"
   ]
  },
  {
   "cell_type": "code",
   "execution_count": null,
   "id": "669c0fca",
   "metadata": {},
   "outputs": [],
   "source": []
  },
  {
   "cell_type": "markdown",
   "id": "09be59fd",
   "metadata": {},
   "source": [
    "# 三、数据清洗与预处理\n",
    "## 题目 5：处理缺失值\n",
    "创建带缺失值的 DataFrame df_missing：\n",
    "\n",
    "df_missing = pd.DataFrame({\n",
    "\n",
    "    'A': [1, np.nan, 3],\n",
    "\n",
    "    'B': [np.nan, 5, np.nan],\n",
    "\n",
    "    'C': [7, 8, 9]\n",
    "\n",
    "})\n",
    "\n",
    "统计各列缺失值数量\n",
    "\n",
    "删除包含缺失值的行\n",
    "\n",
    "用列均值填充'A'列缺失值，用 0 填充'B'列缺失值\n",
    "\n",
    "### 预期输出：\n",
    "缺失值计数（如A:1, B:2）、删除后的 DataFrame、填充后的 DataFrame"
   ]
  },
  {
   "cell_type": "code",
   "execution_count": null,
   "id": "8659c1b1",
   "metadata": {},
   "outputs": [],
   "source": []
  },
  {
   "cell_type": "markdown",
   "id": "777cb91e",
   "metadata": {},
   "source": [
    "## 题目 6：数据类型转换与去重\n",
    "将df的'日期'列转换为 datetime 类型\n",
    "\n",
    "在df中新增'销售额'列（销量 ×10），并设置为整数类型\n",
    "\n",
    "删除df中重复的行\n",
    "\n",
    "### 预期输出：\n",
    "日期列类型为datetime64，销售额列为整数，无重复行（假设原数据无重复）"
   ]
  },
  {
   "cell_type": "code",
   "execution_count": null,
   "id": "77aac37c",
   "metadata": {},
   "outputs": [],
   "source": []
  },
  {
   "cell_type": "markdown",
   "id": "20a358d8",
   "metadata": {},
   "source": [
    "# 四、数据操作与分析\n",
    "## 题目 7：数据排序与统计\n",
    "按'销量'降序排列df\n",
    "\n",
    "计算'销量'的均值、中位数、标准差\n",
    "\n",
    "统计'库存'的分位数（25%、75%）\n",
    "\n",
    "### 预期输出：\n",
    "排序后的 DataFrame，统计值（如均值123.33，中位数120）"
   ]
  },
  {
   "cell_type": "code",
   "execution_count": null,
   "id": "17542d51",
   "metadata": {},
   "outputs": [],
   "source": []
  },
  {
   "cell_type": "markdown",
   "id": "340391b2",
   "metadata": {},
   "source": [
    "## 题目 8：分组聚合操作\n",
    "创建分组数据df_group：\n",
    "\n",
    "df_group = pd.DataFrame({\n",
    "\n",
    "    '类别': ['A', 'B', 'A', 'B', 'A'],\n",
    "\n",
    "    '数值': [10, 20, 15, 25, 12]\n",
    "\n",
    "})\n",
    "\n",
    "按'类别'分组，计算每组'数值'的总和与平均值\n",
    "\n",
    "用transform方法对每组数值减去组均值（生成新列'标准化值'）\n",
    "\n",
    "### 预期输出：\n",
    "分组统计结果（A 组总和 37，均值 12.33；B 组总和 45，均值 22.5），标准化值列"
   ]
  },
  {
   "cell_type": "code",
   "execution_count": null,
   "id": "3b373473",
   "metadata": {},
   "outputs": [],
   "source": []
  },
  {
   "cell_type": "markdown",
   "id": "c384feb5",
   "metadata": {},
   "source": [
    "# 五、数据合并与重塑\n",
    "## 题目 9：合并与连接数据\n",
    "左表left：\n",
    "\n",
    "left = pd.DataFrame({'ID': [1, 2, 3], '姓名': ['Alice', 'Bob', 'Charlie']})\n",
    "\n",
    "右表right：\n",
    "\n",
    "right = pd.DataFrame({'ID': [2, 3, 4], '成绩': [85, 90, 78]})\n",
    "\n",
    "内连接（inner join）合并两表，基于ID\n",
    "\n",
    "外连接（outer join）合并两表，基于ID\n",
    "\n",
    "### 预期输出：\n",
    "内连接结果（ID=2、3 的行），外连接结果（包含 ID=1、4 的行，缺失值用 NaN 填充）"
   ]
  },
  {
   "cell_type": "code",
   "execution_count": null,
   "id": "ee7038c8",
   "metadata": {},
   "outputs": [],
   "source": []
  },
  {
   "cell_type": "markdown",
   "id": "958f037a",
   "metadata": {},
   "source": [
    "## 题目 10：堆叠与透视表\n",
    "将df_group从长格式转换为宽格式（类别为索引，数值为列）\n",
    "\n",
    "创建透视表，按'类别'分组，计算'数值'的最大值和最小值\n",
    "\n",
    "### 预期输出：\n",
    "宽格式 DataFrame，透视表结果（A 组最大值 15，最小值 10；B 组最大值 25，最小值 20）"
   ]
  },
  {
   "cell_type": "code",
   "execution_count": null,
   "id": "775aa7c2",
   "metadata": {},
   "outputs": [],
   "source": []
  },
  {
   "cell_type": "markdown",
   "id": "db521d7b",
   "metadata": {},
   "source": [
    "# 六、时间序列处理\n",
    "### 题目 11：时间序列索引\n",
    "创建时间序列索引dates：从'2023-01-01'开始，长度为 5，频率为天\n",
    "\n",
    "创建 Series ts：值为[10, 20, 30, 40, 50]，索引为dates\n",
    "\n",
    "提取所有周一的数据（假设第一天是周日，需调整频率）\n",
    "\n",
    "### 预期输出：\n",
    "符合条件的 Series（若周一为'2023-01-02'，则输出对应值 20）"
   ]
  },
  {
   "cell_type": "code",
   "execution_count": null,
   "id": "3a387717",
   "metadata": {},
   "outputs": [],
   "source": []
  },
  {
   "cell_type": "markdown",
   "id": "914c14d7",
   "metadata": {},
   "source": [
    "## 题目 12：滚动窗口计算\n",
    "对ts进行 3 天滚动平均计算\n",
    "\n",
    "计算累计总和（cumsum）\n",
    "\n",
    "### 预期输出：\n",
    "滚动平均结果（如前两个值为 NaN，第三个为 20，第四个为 30，第五个为 40），累计和[10, 30, 60, 100, 150]"
   ]
  },
  {
   "cell_type": "code",
   "execution_count": null,
   "id": "cd559872",
   "metadata": {},
   "outputs": [],
   "source": []
  },
  {
   "cell_type": "markdown",
   "id": "d019605c",
   "metadata": {},
   "source": [
    "# 七、文件读写与可视化\n",
    "## 题目 13：读写 CSV/Excel 文件\n",
    "读取示例文件students.csv（假设包含姓名、年龄、成绩列）\n",
    "\n",
    "将成绩大于 80 的学生数据保存为新文件high_score.csv\n",
    "\n",
    "### 预期输出：\n",
    "生成新文件，包含符合条件的行"
   ]
  },
  {
   "cell_type": "code",
   "execution_count": null,
   "id": "534e6f73",
   "metadata": {},
   "outputs": [],
   "source": []
  },
  {
   "cell_type": "markdown",
   "id": "4d9d3b6a",
   "metadata": {},
   "source": [
    "## 题目 14：简单数据可视化\n",
    "用df的'日期'和'销量'绘制折线图，标题为 “每日销量趋势”\n",
    "\n",
    "绘制'库存'的直方图，bins=3\n",
    "### 预期输出：\n",
    "显示两个图表（可通过plt.show()查看）"
   ]
  },
  {
   "cell_type": "code",
   "execution_count": null,
   "id": "314e7fbb",
   "metadata": {},
   "outputs": [],
   "source": []
  },
  {
   "cell_type": "markdown",
   "id": "c53e7acd",
   "metadata": {},
   "source": [
    "# 八、综合实战：电商销售分析\n",
    "## 题目 15：销售数据综合处理\n",
    "假设数据文件sales.csv包含以下列：\n",
    "\n",
    "订单号, 日期, 商品类别, 销售额, 成本, 利润\n",
    "\n",
    "要求完成以下分析：\n",
    "\n",
    "1.读取数据，查看前 5 行和数据概览（describe()）\n",
    "\n",
    "2.清洗数据：删除重复订单，填充利润缺失值为 0\n",
    "\n",
    "3.按商品类别分组，计算总销售额、平均成本、最大利润\n",
    "\n",
    "4.筛选出利润大于 1000 的订单，按日期排序\n",
    "\n",
    "5.生成各商品类别销售额占比饼图\n",
    "\n",
    "### 预期输出：\n",
    "分组统计结果、筛选后的 DataFrame、饼图可视化"
   ]
  },
  {
   "cell_type": "code",
   "execution_count": null,
   "id": "faba49fa",
   "metadata": {},
   "outputs": [],
   "source": []
  }
 ],
 "metadata": {
  "kernelspec": {
   "display_name": "Python 3",
   "language": "python",
   "name": "python3"
  },
  "language_info": {
   "name": "python",
   "version": "3.9.6"
  }
 },
 "nbformat": 4,
 "nbformat_minor": 5
}
