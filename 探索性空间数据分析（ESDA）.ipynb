{
 "cells": [
  {
   "cell_type": "markdown",
   "id": "a0128f21",
   "metadata": {},
   "source": [
    "# 一、空间数据基础操作\n",
    "## 题目 1：加载与查看空间数据\n",
    "任务：\n",
    "\n",
    "1.加载美国各州 Shapefile 文件（states.shp），包含字段：STATE_NAME, POP_2020, GDP_PER_CAP\n",
    "\n",
    "2.查看数据类型、空间参考（CRS）、前 5 个要素的几何类型\n",
    "\n",
    "3.提取纽约州（STATE_NAME='New York'）的几何对象并打印坐标范围"
   ]
  },
  {
   "cell_type": "code",
   "execution_count": null,
   "id": "8de09a89",
   "metadata": {},
   "outputs": [],
   "source": []
  },
  {
   "cell_type": "markdown",
   "id": "8a76e720",
   "metadata": {},
   "source": [
    "## 题目 2：空间数据可视化\n",
    "任务：\n",
    "\n",
    "1.绘制美国各州人口密度（POP_2020/ 面积）的 Choropleth 地图，分 5 级自然间断点分级\n",
    "\n",
    "2.在地图上叠加主要城市点数据（cities.csv，含Lat, Lon, Population）\n",
    "\n",
    "3.添加图例、标题、坐标轴标签"
   ]
  },
  {
   "cell_type": "code",
   "execution_count": null,
   "id": "2969aa9f",
   "metadata": {},
   "outputs": [],
   "source": []
  },
  {
   "cell_type": "markdown",
   "id": "0f9cafa7",
   "metadata": {},
   "source": [
    "# 二、空间数据预处理\n",
    "## 题目 3：投影转换与空间裁剪\n",
    "任务：\n",
    "\n",
    "1.将原始数据的地理坐标系（WGS84，EPSG:4326）转换为美国阿尔伯斯等面积圆锥投影（EPSG:5070）\n",
    "\n",
    "2.裁剪出密西西比河以东的州（通过空间过滤或自定义多边形）"
   ]
  },
  {
   "cell_type": "code",
   "execution_count": null,
   "id": "b39988eb",
   "metadata": {},
   "outputs": [],
   "source": []
  },
  {
   "cell_type": "markdown",
   "id": "faf7562b",
   "metadata": {},
   "source": [
    "## 题目 4：创建空间权重矩阵\n",
    "任务：\n",
    "\n",
    "1.基于邻接关系（Rook 准则）创建空间权重矩阵W_rook\n",
    "\n",
    "2.基于反距离权重（距离阈值 500 公里）创建矩阵W_distance"
   ]
  },
  {
   "cell_type": "code",
   "execution_count": null,
   "id": "1ee270f7",
   "metadata": {},
   "outputs": [],
   "source": []
  },
  {
   "cell_type": "markdown",
   "id": "2cd26bbc",
   "metadata": {},
   "source": [
    "# 三、全局空间自相关分析\n",
    "## 题目 5：计算莫兰指数（Moran's I）\n",
    "任务：\n",
    "\n",
    "1.计算各州 GDP 人均值的全局莫兰指数，判断空间集聚程度\n",
    "\n",
    "2.绘制莫兰散点图，区分高 - 高、低 - 低等象限\n",
    "### 预期输出：\n",
    "若莫兰指数 > 0 且 p<0.05，表明存在正空间自相关（高值集聚或低值集聚）"
   ]
  },
  {
   "cell_type": "code",
   "execution_count": null,
   "id": "df4dce0a",
   "metadata": {},
   "outputs": [],
   "source": []
  },
  {
   "cell_type": "markdown",
   "id": "4ba02adc",
   "metadata": {},
   "source": [
    "## 题目 6：Geary's C 统计量\n",
    "任务：\n",
    "\n",
    "计算各州人口密度的 Geary's C 统计量，对比莫兰指数的结论"
   ]
  },
  {
   "cell_type": "code",
   "execution_count": null,
   "id": "d8d260ec",
   "metadata": {},
   "outputs": [],
   "source": []
  },
  {
   "cell_type": "markdown",
   "id": "5905abe1",
   "metadata": {},
   "source": [
    "# 四、局部空间自相关分析\n",
    "## 题目 7：LISA 分析与热点图\n",
    "任务：\n",
    "\n",
    "1.计算各州 GDP 人均值的局部莫兰指数（LISA）\n",
    "\n",
    "2.生成热点图，标注高 - 高（HH）、低 - 低（LL）区域"
   ]
  },
  {
   "cell_type": "code",
   "execution_count": null,
   "id": "3da6a45c",
   "metadata": {},
   "outputs": [],
   "source": []
  },
  {
   "cell_type": "markdown",
   "id": "da603c24",
   "metadata": {},
   "source": [
    "## 题目 8：空间异质性检验\n",
    "任务：\n",
    "\n",
    "使用 Getis-Ord Gi * 统计量识别各州犯罪率的局部热点（高值簇）"
   ]
  },
  {
   "cell_type": "code",
   "execution_count": null,
   "id": "6c7044ae",
   "metadata": {},
   "outputs": [],
   "source": []
  },
  {
   "cell_type": "markdown",
   "id": "d53e1c01",
   "metadata": {},
   "source": [
    "# 五、空间数据关联分析\n",
    "## 题目 9：空间连接与属性分析\n",
    "任务：\n",
    "\n",
    "1.将城市点数据与州数据进行空间连接，为城市添加所属州名称\n",
    "\n",
    "2.分析不同州中城市人口的均值差异"
   ]
  },
  {
   "cell_type": "code",
   "execution_count": null,
   "id": "230ea840",
   "metadata": {},
   "outputs": [],
   "source": []
  },
  {
   "cell_type": "markdown",
   "id": "3d8ad196",
   "metadata": {},
   "source": [
    "## 题目 10：空间回归基础（OLS vs 空间模型）\n",
    "任务：\n",
    "\n",
    "1.建立 OLS 模型：GDP_PER_CAP ~ POP_DENSITY + EDUCATION_RATE\n",
    "\n",
    "2.检验 OLS 模型的空间自相关（莫兰指数检验残差）\n",
    "\n",
    "3.拟合空间滞后模型（SLM），比较 AIC 值\n",
    "### 预期结论：\n",
    "若 SLM 的 AIC 低于 OLS，表明空间滞后效应显著"
   ]
  },
  {
   "cell_type": "code",
   "execution_count": null,
   "id": "98612c96",
   "metadata": {},
   "outputs": [],
   "source": []
  },
  {
   "cell_type": "markdown",
   "id": "da2296e5",
   "metadata": {},
   "source": [
    "# 六、高级空间分析（可选）\n",
    "## 题目 11：空间插值与表面分析\n",
    "任务：\n",
    "\n",
    "使用克里金插值法（Kriging）从离散气象站数据生成降水分布图\n",
    "\n",
    "工具提示：\n",
    "使用pykrige库或geopandas的sample方法生成模拟数据"
   ]
  },
  {
   "cell_type": "code",
   "execution_count": null,
   "id": "49aa265f",
   "metadata": {},
   "outputs": [],
   "source": []
  },
  {
   "cell_type": "markdown",
   "id": "4248568e",
   "metadata": {},
   "source": [
    "## 题目 12：网络分析（最短路径）\n",
    "任务：\n",
    "\n",
    "基于城市点数据和道路网络 Shapefile，计算从纽约到洛杉矶的最短路径\n",
    "\n",
    "工具提示：\n",
    "使用networkx库或osmnx库获取开放街道地图（OSM）数据"
   ]
  },
  {
   "cell_type": "code",
   "execution_count": null,
   "id": "eeada370",
   "metadata": {},
   "outputs": [],
   "source": []
  }
 ],
 "metadata": {
  "kernelspec": {
   "display_name": "Python 3",
   "language": "python",
   "name": "python3"
  },
  "language_info": {
   "name": "python",
   "version": "3.9.6"
  }
 },
 "nbformat": 4,
 "nbformat_minor": 5
}
