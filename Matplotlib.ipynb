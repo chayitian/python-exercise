{
 "cells": [
  {
   "cell_type": "markdown",
   "id": "c1f0362c",
   "metadata": {},
   "source": [
    "# 一、基础绘图与语法\n",
    "## 题目 1：绘制简单折线图\n",
    "任务：\n",
    "\n",
    "1.生成 x 轴数据：0 到 10，间隔 0.1\n",
    "\n",
    "2.计算 y1=sin (x)，y2=cos (x)\n",
    "\n",
    "3.在同一图中绘制两条曲线，y1 为蓝色实线，y2 为红色虚线\n",
    "\n",
    "4.添加标题、x 轴标签、y 轴标签和图例"
   ]
  },
  {
   "cell_type": "code",
   "execution_count": null,
   "id": "90105f73",
   "metadata": {},
   "outputs": [],
   "source": []
  },
  {
   "cell_type": "markdown",
   "id": "10f62e6a",
   "metadata": {},
   "source": [
    "## 题目 2：绘制散点图与柱状图\n",
    "任务：\n",
    "\n",
    "1.随机生成两组数据：\n",
    "\n",
    "    x1, y1：正态分布（均值 0，标准差 1），100 个点\n",
    "\n",
    "    x2, y2：正态分布（均值 2，标准差 0.5），100 个点\n",
    "\n",
    "2.用散点图绘制两组数据，x1/y1 为蓝色圆点，x2/y2 为红色叉号\n",
    "\n",
    "3.计算两组数据的均值和标准差，用柱状图展示\n",
    "### 预期输出：\n",
    "散点图 + 柱状图组合"
   ]
  },
  {
   "cell_type": "code",
   "execution_count": null,
   "id": "fbc85285",
   "metadata": {},
   "outputs": [],
   "source": []
  },
  {
   "cell_type": "markdown",
   "id": "e687ca0e",
   "metadata": {},
   "source": [
    "# 二、多图布局与子图\n",
    "## 题目 3：创建多子图布局\n",
    "任务：\n",
    "\n",
    "创建 2×2 的子图布局，分别绘制：\n",
    "\n",
    "1.正弦曲线（同上题）\n",
    "\n",
    "2.随机漫步折线图（100 个点，从 0 开始，每次 ±1 随机移动）\n",
    "\n",
    "3.均匀分布直方图（1000 个样本）\n",
    "\n",
    "4.两个变量的箱线图比较\n",
    "### 预期输出：\n",
    "四宫格子图，共享标题"
   ]
  },
  {
   "cell_type": "code",
   "execution_count": null,
   "id": "e9a0a826",
   "metadata": {},
   "outputs": [],
   "source": []
  },
  {
   "cell_type": "markdown",
   "id": "0c73f6b9",
   "metadata": {},
   "source": [
    "## 题目 4：复杂布局与共享坐标轴\n",
    "任务：\n",
    "\n",
    "创建一个包含 3 个子图的布局：\n",
    "\n",
    "1.主图：股票价格折线图（时间序列）\n",
    "\n",
    "2.顶部子图：交易量柱状图，与主图共享 x 轴\n",
    "\n",
    "3.右侧子图：价格分布密度图，与主图共享 y 轴\n",
    "### 预期输出：\n",
    "类似金融软件的价格 - 交易量联动图表"
   ]
  },
  {
   "cell_type": "code",
   "execution_count": null,
   "id": "c1a1b131",
   "metadata": {},
   "outputs": [],
   "source": []
  },
  {
   "cell_type": "markdown",
   "id": "f0ad073c",
   "metadata": {},
   "source": [
    "# 三、高级可视化技术\n",
    "## 题目 5：热力图与相关性矩阵\n",
    "任务：\n",
    "\n",
    "1.生成 5×5 的随机相关系数矩阵（值范围 - 1 到 1，对角线为 1）\n",
    "\n",
    "2.用热力图可视化矩阵，颜色映射为蓝 - 白 - 红\n",
    "\n",
    "3.在每个单元格中标注具体数值\n",
    "### 预期输出：\n",
    "类似相关系数矩阵的热力图，颜色越红表示正相关性越强"
   ]
  },
  {
   "cell_type": "code",
   "execution_count": null,
   "id": "5fa33d64",
   "metadata": {},
   "outputs": [],
   "source": []
  },
  {
   "cell_type": "markdown",
   "id": "df998f95",
   "metadata": {},
   "source": [
    "## 题目 6：3D 曲面图与等高线图\n",
    "任务：\n",
    "\n",
    "1.计算函数 z = sin (sqrt (x² + y²)) 在 x∈[-5,5]，y∈[-5,5] 的网格值\n",
    "\n",
    "2.绘制 3D 曲面图\n",
    "\n",
    "3.在下方绘制对应的等高线图\n",
    "### 预期输出：\n",
    "3D 曲面图 + 等高线图组合"
   ]
  },
  {
   "cell_type": "code",
   "execution_count": null,
   "id": "b80ebc5e",
   "metadata": {},
   "outputs": [],
   "source": []
  },
  {
   "cell_type": "markdown",
   "id": "e6b785f1",
   "metadata": {},
   "source": [
    "# 四、自定义样式与美化\n",
    "## 题目 7：自定义绘图风格\n",
    "任务：\n",
    "\n",
    "1.创建一个包含 10 个点的折线图（y=x²）\n",
    "\n",
    "2.自定义以下元素：\n",
    "\n",
    "    线条：宽度 3，颜色 #FF5733，虚线样式\n",
    "\n",
    "    标记：五角星，大小 80，填充颜色 #33FF57，边缘颜色黑色\n",
    "\n",
    "    背景：浅灰色网格线，透明度 0.3\n",
    "\n",
    "    坐标轴：隐藏上、右边框，x 轴标签旋转 45 度\n",
    "\n",
    "3.添加自定义标题和水印\n",
    "### 预期输出：\n",
    "个性化样式的二次函数图像"
   ]
  },
  {
   "cell_type": "code",
   "execution_count": null,
   "id": "00a67ddf",
   "metadata": {},
   "outputs": [],
   "source": []
  },
  {
   "cell_type": "markdown",
   "id": "b6e26bb4",
   "metadata": {},
   "source": [
    "## 题目 8：创建专业出版物图表\n",
    "任务：\n",
    "\n",
    "1.绘制两组数据的对比箱线图（每组 100 个样本，正态分布，均值不同）\n",
    "\n",
    "2.美化图表，使其符合学术期刊要求：\n",
    "\n",
    "    字体：Arial，大小 12\n",
    "\n",
    "    颜色：蓝灰（#4C72B0）和橙灰（#DD8452）\n",
    "\n",
    "    图例：无框，位于右上角\n",
    "\n",
    "    坐标轴标签：添加单位（如 \"Value (mm)\"）\n",
    "\n",
    "3.保存为 300DPI 的 PDF 文件"
   ]
  },
  {
   "cell_type": "code",
   "execution_count": null,
   "id": "43839489",
   "metadata": {},
   "outputs": [],
   "source": []
  },
  {
   "cell_type": "markdown",
   "id": "1b2e96da",
   "metadata": {},
   "source": [
    "# 五、动态交互与应用场景\n",
    "## 题目 9：动画绘制（移动正弦波）\n",
    "任务：\n",
    "\n",
    "创建一个动画，展示正弦波随时间移动的效果\n",
    "\n",
    "    x 范围：0 到 10，y = sin (x - t)，t 从 0 到 2π 变化\n",
    "\n",
    "    动画持续 10 秒，每秒 25 帧\n",
    "    \n",
    "    添加标题显示当前时间 t\n",
    "### 预期输出：\n",
    "平滑移动的正弦波动画"
   ]
  },
  {
   "cell_type": "code",
   "execution_count": null,
   "id": "6175f2eb",
   "metadata": {},
   "outputs": [],
   "source": []
  },
  {
   "cell_type": "markdown",
   "id": "52ae52a7",
   "metadata": {},
   "source": [
    "## 题目 10：交互式数据可视化\n",
    "任务：\n",
    "\n",
    "使用 matplotlib 的交互功能创建一个股票价格分析工具：\n",
    "\n",
    "1.绘制某股票历史价格折线图（可使用随机数据模拟）\n",
    "\n",
    "2.添加交互功能：\n",
    "\n",
    "    鼠标悬停显示具体价格和日期\n",
    "\n",
    "    右键点击添加 / 删除标记点（如买入 / 卖出信号）\n",
    "    \n",
    "    滚轮缩放 x 轴"
   ]
  },
  {
   "cell_type": "code",
   "execution_count": null,
   "id": "882e2d95",
   "metadata": {},
   "outputs": [],
   "source": []
  },
  {
   "cell_type": "markdown",
   "id": "91ec38a7",
   "metadata": {},
   "source": [
    "# 六、综合实战项目\n",
    "## 题目 11：数据仪表盘（Dashboard）\n",
    "任务：\n",
    "\n",
    "创建一个包含多个图表的综合仪表盘，展示某电商平台数据：\n",
    "\n",
    "1.顶部：月度销售额趋势图（折线图）\n",
    "\n",
    "2.左侧：商品类别分布饼图\n",
    "\n",
    "3.右侧：地区销售热力图（按省份）\n",
    "\n",
    "4.底部：客户满意度与订单量散点图，颜色映射价格区间\n",
    "### 预期输出：\n",
    "类似商业 BI 工具的多图表组合界面"
   ]
  },
  {
   "cell_type": "code",
   "execution_count": null,
   "id": "318d9644",
   "metadata": {},
   "outputs": [],
   "source": []
  },
  {
   "cell_type": "markdown",
   "id": "b4dbccea",
   "metadata": {},
   "source": [
    "## 题目 12：科学数据可视化（地震分布）\n",
    "任务：\n",
    "\n",
    "1.使用地震数据（可从 USGS 获取样本）创建交互式地图：\n",
    "\n",
    "2.在世界地图上绘制地震发生位置（散点图）\n",
    "\n",
    "3.点大小表示地震震级，颜色表示深度\n",
    "\n",
    "4.添加滑块控件，可筛选特定时间范围的地震\n",
    "\n",
    "工具提示：\n",
    "使用cartopy库绘制地理地图"
   ]
  },
  {
   "cell_type": "code",
   "execution_count": null,
   "id": "773b416d",
   "metadata": {},
   "outputs": [],
   "source": []
  }
 ],
 "metadata": {
  "kernelspec": {
   "display_name": "Python 3",
   "language": "python",
   "name": "python3"
  },
  "language_info": {
   "name": "python",
   "version": "3.9.6"
  }
 },
 "nbformat": 4,
 "nbformat_minor": 5
}
