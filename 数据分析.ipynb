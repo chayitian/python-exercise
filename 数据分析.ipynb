{
 "cells": [
  {
   "cell_type": "markdown",
   "id": "a4496aaf",
   "metadata": {},
   "source": [
    "# 一、数据获取与基础分析\n",
    "## 题目 1：加载与查看数据\n",
    "任务：\n",
    "\n",
    "1.加载泰坦尼克号数据集（titanic.csv），包含字段：PassengerId, Survived, Pclass, Name, Sex, Age, SibSp, Parch, Ticket, Fare, Cabin, Embarked\n",
    "\n",
    "2.查看前 5 行、数据形状、缺失值分布、数据类型\n",
    "\n",
    "3.统计Survived（生存状态）的唯一值计数\n",
    "\n",
    "### 预期输出：\n",
    "缺失值列：Age、Cabin、Embarked\n",
    "\n",
    "生存计数：0: 549, 1: 342（示例值）"
   ]
  },
  {
   "cell_type": "code",
   "execution_count": null,
   "id": "847867ba",
   "metadata": {},
   "outputs": [],
   "source": []
  },
  {
   "cell_type": "markdown",
   "id": "12cfef07",
   "metadata": {},
   "source": [
    "## 题目 2：基础统计描述\n",
    "任务：\n",
    "\n",
    "1.计算数值型字段（Age, Fare等）的均值、中位数、标准差\n",
    "\n",
    "2.分析Pclass（客舱等级）与Survived的关系，统计各等级的生存人数占比\n",
    "\n",
    "### 预期输出：\n",
    "Fare均值约 32.2，中位数约 14.45\n",
    "\n",
    "一等舱生存占比约 62%，三等舱约 24%"
   ]
  },
  {
   "cell_type": "code",
   "execution_count": null,
   "id": "876f186d",
   "metadata": {},
   "outputs": [],
   "source": []
  },
  {
   "cell_type": "markdown",
   "id": "4cf71c78",
   "metadata": {},
   "source": [
    "# 二、数据清洗与预处理\n",
    "### 题目 3：处理缺失值与异常值\n",
    "任务：\n",
    "\n",
    "1.用中位数填充Age缺失值，用最频繁值填充Embarked\n",
    "\n",
    "2.删除Cabin列（缺失率过高）\n",
    "\n",
    "3.识别Fare中的异常值（用 Z-score 或 IQR 方法），并替换为均值\n",
    "\n",
    "操作提示：\n",
    "\n",
    "df['Age'].fillna(df['Age'].median(), inplace=True)\n",
    "\n",
    "异常值判断：IQR = Q3 - Q1; 下限=Q1-1.5*IQR，上限=Q3+1.5*IQR"
   ]
  },
  {
   "cell_type": "code",
   "execution_count": null,
   "id": "ea9317af",
   "metadata": {},
   "outputs": [],
   "source": []
  },
  {
   "cell_type": "markdown",
   "id": "92bf8ebe",
   "metadata": {},
   "source": [
    "## 题目 4：特征工程\n",
    "任务：\n",
    "\n",
    "1.将Sex（性别）编码为数值（男 = 0，女 = 1）\n",
    "\n",
    "2.创建新特征FamilySize = SibSp + Parch + 1（包含自己）\n",
    "\n",
    "3.对Embarked进行独热编码（One-Hot Encoding）\n",
    "### 预期输出：\n",
    "新列：Sex_num, FamilySize, Embarked_C, Embarked_Q, Embarked_S"
   ]
  },
  {
   "cell_type": "code",
   "execution_count": null,
   "id": "fd555684",
   "metadata": {},
   "outputs": [],
   "source": []
  },
  {
   "cell_type": "markdown",
   "id": "ceabfdd1",
   "metadata": {},
   "source": [
    "# 三、探索性数据分析（EDA）\n",
    "## 题目 5：单变量可视化\n",
    "任务：\n",
    "\n",
    "1.绘制Age的直方图（bins=10），分析年龄分布\n",
    "\n",
    "2.用饼图展示Survived的生存比例\n",
    "\n",
    "3.用柱状图对比各Pclass的乘客数量"
   ]
  },
  {
   "cell_type": "code",
   "execution_count": null,
   "id": "986b9d86",
   "metadata": {},
   "outputs": [],
   "source": []
  },
  {
   "cell_type": "markdown",
   "id": "3d509824",
   "metadata": {},
   "source": [
    "## 题目 6：双变量分析\n",
    "任务：\n",
    "\n",
    "1.用箱线图对比不同Sex的Age分布\n",
    "\n",
    "2.用散点图分析Fare与Age的相关性\n",
    "\n",
    "3.用热力图展示数值型特征的相关系数矩阵\n",
    "\n",
    "### 预期输出：\n",
    "女性年龄分布更集中，Fare与Age相关性较弱（约 0.1）\n",
    "\n",
    "热力图中Pclass与Fare负相关（约 - 0.5）"
   ]
  },
  {
   "cell_type": "code",
   "execution_count": null,
   "id": "c1e36e76",
   "metadata": {},
   "outputs": [],
   "source": []
  },
  {
   "cell_type": "markdown",
   "id": "c30a3c06",
   "metadata": {},
   "source": [
    "# 四、统计分析与假设检验\n",
    "## 题目 7：分组统计与假设检验\n",
    "任务：\n",
    "\n",
    "1.按Survived分组，计算Age、Fare的均值差异\n",
    "\n",
    "2.用独立样本 t 检验判断生存者与非生存者的Fare是否有显著差异（α=0.05）\n",
    "\n",
    "### 预期结果：\n",
    "p 值 < 0.05，拒绝原假设，认为有显著差异"
   ]
  },
  {
   "cell_type": "code",
   "execution_count": null,
   "id": "390fee48",
   "metadata": {},
   "outputs": [],
   "source": []
  },
  {
   "cell_type": "markdown",
   "id": "6a3c2908",
   "metadata": {},
   "source": [
    "## 题目 8：相关性与因果分析\n",
    "任务：\n",
    "\n",
    "1.计算FamilySize与Survived的相关系数（Spearman 或 Pearson）\n",
    "\n",
    "2.分析Embarked港口是否影响生存概率（卡方检验）"
   ]
  },
  {
   "cell_type": "code",
   "execution_count": null,
   "id": "f5b678a6",
   "metadata": {},
   "outputs": [],
   "source": []
  },
  {
   "cell_type": "markdown",
   "id": "d602b5ad",
   "metadata": {},
   "source": [
    "# 五、机器学习建模（分类与回归）\n",
    "## 题目 9：生存预测（分类问题）\n",
    "任务：\n",
    "\n",
    "1.选择特征：Pclass, Sex_num, Age, FamilySize, Fare, Embarked_*\n",
    "\n",
    "2.划分训练集与测试集（7:3 比例）\n",
    "\n",
    "3.用逻辑回归（Logistic Regression）建模，计算准确率、精确率、召回率\n",
    "### 预期输出：\n",
    "准确率约 0.82，精确率（生存类）约 0.78"
   ]
  },
  {
   "cell_type": "code",
   "execution_count": null,
   "id": "1797d56b",
   "metadata": {},
   "outputs": [],
   "source": []
  },
  {
   "cell_type": "markdown",
   "id": "3b5a56ef",
   "metadata": {},
   "source": [
    "## 题目 10：房价预测（回归问题，使用波士顿房价数据集）\n",
    "任务：\n",
    "\n",
    "1.加载波士顿房价数据集（sklearn.datasets.load_boston()）\n",
    "\n",
    "2.用线性回归建模，预测房价（MEDV）\n",
    "\n",
    "3.计算均方误差（MSE）、决定系数（R²）\n",
    "\n",
    "### 预期输出：\n",
    "\n",
    "R² 约 0.75，MSE 约 25"
   ]
  },
  {
   "cell_type": "code",
   "execution_count": null,
   "id": "da4f0bf7",
   "metadata": {},
   "outputs": [],
   "source": []
  },
  {
   "cell_type": "markdown",
   "id": "50bc481f",
   "metadata": {},
   "source": [
    "# 六、时间序列分析（可选）\n",
    "## 题目 11：电商销量趋势分析\n",
    "任务：\n",
    "\n",
    "1.加载时间序列数据（如sales_data.csv，包含date和sales列）\n",
    "\n",
    "2.将date转换为 datetime 索引，重采样为月频率，计算月销售额\n",
    "\n",
    "3.绘制趋势图，用移动平均平滑曲线\n",
    "\n",
    "4.分解时间序列（趋势、季节、残差）"
   ]
  },
  {
   "cell_type": "code",
   "execution_count": null,
   "id": "a6470575",
   "metadata": {},
   "outputs": [],
   "source": []
  },
  {
   "cell_type": "markdown",
   "id": "1a05ebb9",
   "metadata": {},
   "source": [
    "# 七、文本数据分析（可选）\n",
    "## 题目 12：影评情感分析\n",
    "任务：\n",
    "\n",
    "1.加载影评数据集（包含text和sentiment标签）\n",
    "\n",
    "2.预处理文本：分词、去除停用词、词干提取\n",
    "\n",
    "3.用 TF-IDF 向量器转换文本为特征矩阵\n",
    "\n",
    "4.用朴素贝叶斯分类器判断情感（积极 / 消极）"
   ]
  },
  {
   "cell_type": "code",
   "execution_count": null,
   "id": "c76eebf5",
   "metadata": {},
   "outputs": [],
   "source": []
  },
  {
   "cell_type": "markdown",
   "id": "cafb776a",
   "metadata": {},
   "source": [
    "# 八、综合实战：用户行为分析\n",
    "## 题目 13：用户留存分析\n",
    "数据背景：用户登录日志（user_log.csv，字段：user_id, login_date, active）\n",
    "\n",
    "分析目标：\n",
    "\n",
    "1.计算每日新增用户数\n",
    "\n",
    "2.定义留存：用户在注册后 N 天内再次活跃\n",
    "\n",
    "3.计算 30 日留存率，绘制留存曲线"
   ]
  },
  {
   "cell_type": "code",
   "execution_count": null,
   "id": "038add91",
   "metadata": {},
   "outputs": [],
   "source": []
  }
 ],
 "metadata": {
  "kernelspec": {
   "display_name": "Python 3",
   "language": "python",
   "name": "python3"
  },
  "language_info": {
   "name": "python",
   "version": "3.9.6"
  }
 },
 "nbformat": 4,
 "nbformat_minor": 5
}
