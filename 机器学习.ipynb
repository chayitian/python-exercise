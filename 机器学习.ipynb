{
 "cells": [
  {
   "cell_type": "markdown",
   "id": "be4801a4",
   "metadata": {},
   "source": [
    "# 一、基础数据处理与特征工程\n",
    "## 题目 1：经典数据集加载与探索\n",
    "数据：使用scikit-learn的iris（鸢尾花分类）和boston_house_prices（房价回归）数据集。\n",
    "\n",
    "任务：\n",
    "\n",
    "1.加载数据集，查看特征矩阵和标签的形状、前 5 条样本。\n",
    "\n",
    "2.对iris数据集，统计各类别样本数量；对房价数据，计算数值特征的均值、标准差。\n",
    "\n",
    "3.绘制iris数据中花瓣长度（petal length）与宽度（petal width）的散点图，用颜色区分类别。"
   ]
  },
  {
   "cell_type": "code",
   "execution_count": null,
   "id": "938db450",
   "metadata": {},
   "outputs": [],
   "source": []
  },
  {
   "cell_type": "markdown",
   "id": "ce75986d",
   "metadata": {},
   "source": [
    "## 题目 2：缺失值与异常值处理\n",
    "数据：自定义含缺失值的表格数据（或使用kaggle的 Titanic 数据集）。\n",
    "\n",
    "任务：\n",
    "\n",
    "1.检查缺失值比例，用中位数填充数值型缺失值，用众数填充分类型缺失值。\n",
    "\n",
    "2.用 Z-score 或 IQR 方法检测数值型特征（如年龄）的异常值，并进行 Winsorize 处理。\n",
    "\n",
    "3.将分类型特征（如性别、舱位等级）转换为独热编码（One-Hot Encoding）。"
   ]
  },
  {
   "cell_type": "code",
   "execution_count": null,
   "id": "3552a149",
   "metadata": {},
   "outputs": [],
   "source": []
  },
  {
   "cell_type": "markdown",
   "id": "b02f8b03",
   "metadata": {},
   "source": [
    "# 二、监督学习：分类与回归\n",
    "## 题目 3：逻辑回归与分类评估\n",
    "数据：scikit-learn的digits手写数字数据集（多分类）。\n",
    "\n",
    "任务：\n",
    "\n",
    "1.划分训练集与测试集（7:3），对图像特征进行标准化。\n",
    "\n",
    "2.用逻辑回归（Logistic Regression）训练模型，输出分类报告（准确率、精确率、召回率、F1 值）。\n",
    "\n",
    "3.绘制混淆矩阵，分析模型在哪些数字上容易误分类。"
   ]
  },
  {
   "cell_type": "code",
   "execution_count": null,
   "id": "867504a2",
   "metadata": {},
   "outputs": [],
   "source": []
  },
  {
   "cell_type": "markdown",
   "id": "9e283a69",
   "metadata": {},
   "source": [
    "## 题目 4：随机森林回归与特征重要性\n",
    "数据：boston_house_prices数据集。\n",
    "\n",
    "任务：\n",
    "\n",
    "1.用随机森林（Random Forest）建立房价预测模型，使用均方误差（MSE）评估。\n",
    "\n",
    "2.绘制特征重要性排名图，分析哪些特征对房价影响最大。\n",
    "\n",
    "3.对比默认参数与调优后（如限制树深度、调整样本数）的模型性能差异。"
   ]
  },
  {
   "cell_type": "code",
   "execution_count": null,
   "id": "c6ebead0",
   "metadata": {},
   "outputs": [],
   "source": []
  },
  {
   "cell_type": "markdown",
   "id": "21f21c17",
   "metadata": {},
   "source": [
    "# 三、无监督学习与降维\n",
    "## 题目 5：K-means 聚类与肘部法则\n",
    "数据：scikit-learn的make_blobs生成的二维聚类数据。\n",
    "\n",
    "任务：\n",
    "\n",
    "1.生成包含 3 个簇的模拟数据，绘制散点图观察分布。\n",
    "\n",
    "2.使用 K-means 算法聚类，通过肘部法则（Elbow Method）确定最优簇数k。\n",
    "\n",
    "3.可视化聚类结果，用不同颜色标注每个簇。"
   ]
  },
  {
   "cell_type": "code",
   "execution_count": null,
   "id": "5557fffc",
   "metadata": {},
   "outputs": [],
   "source": []
  },
  {
   "cell_type": "markdown",
   "id": "3be8be2d",
   "metadata": {},
   "source": [
    "## 题目 6：主成分分析（PCA）降维\n",
    "数据：scikit-learn的mnist手写数字数据集（784 维特征）。\n",
    "\n",
    "任务：\n",
    "\n",
    "1.对图像特征进行 PCA 降维，保留 95% 的方差，计算所需主成分数量。\n",
    "\n",
    "2.将降维后的数据用 t-SNE 可视化，观察不同数字类别的分布。\n",
    "\n",
    "3.对比降维前后训练 SVM 分类器的速度与准确率差异。"
   ]
  },
  {
   "cell_type": "code",
   "execution_count": null,
   "id": "edf8a121",
   "metadata": {},
   "outputs": [],
   "source": []
  },
  {
   "cell_type": "markdown",
   "id": "ffb60793",
   "metadata": {},
   "source": [
    "# 四、模型调优与集成学习\n",
    "题目 7：网格搜索与交叉验证\n",
    "\n",
    "数据：iris数据集。\n",
    "\n",
    "任务：\n",
    "\n",
    "1.使用支持向量机（SVM）分类，通过网格搜索（GridSearchCV）优化C和gamma参数。\n",
    "\n",
    "2.采用 5 折交叉验证评估模型，输出最优参数组合和交叉验证得分。\n",
    "\n",
    "3.在测试集上验证调优后的模型性能，对比调优前后的准确率。"
   ]
  },
  {
   "cell_type": "code",
   "execution_count": null,
   "id": "01f193f5",
   "metadata": {},
   "outputs": [],
   "source": []
  },
  {
   "cell_type": "markdown",
   "id": "12932768",
   "metadata": {},
   "source": [
    "## 题目 8：XGBoost 集成学习\n",
    "数据：Kaggle 经典竞赛数据集Titanic（生存预测）。\n",
    "\n",
    "任务：\n",
    "\n",
    "1.完成数据预处理（缺失值处理、特征编码），划分训练集与验证集。\n",
    "\n",
    "2.用 XGBoost 训练分类模型，使用早停法（Early Stopping）防止过拟合。\n",
    "\n",
    "3.绘制特征重要性图，分析影响生存的关键因素（如年龄、舱位等级等）。"
   ]
  },
  {
   "cell_type": "code",
   "execution_count": null,
   "id": "12cfa040",
   "metadata": {},
   "outputs": [],
   "source": []
  },
  {
   "cell_type": "markdown",
   "id": "78995d30",
   "metadata": {},
   "source": [
    "# 五、深度学习基础\n",
    "## 题目 9：全连接神经网络（Keras 实现）\n",
    "\n",
    "数据：mnist手写数字图像数据（6 万训练样本，1 万测试样本）。\n",
    "\n",
    "任务：\n",
    "\n",
    "1.数据预处理：将像素值归一化到 [0,1]，将标签转换为独热编码。\n",
    "\n",
    "2.构建含 2 个隐藏层的神经网络（如 128 维和 64 维神经元，ReLU 激活），使用 Adam 优化器。\n",
    "\n",
    "3.训练模型并绘制训练集与验证集的损失曲线，输出测试集准确率。"
   ]
  },
  {
   "cell_type": "code",
   "execution_count": null,
   "id": "e0552eb1",
   "metadata": {},
   "outputs": [],
   "source": []
  },
  {
   "cell_type": "markdown",
   "id": "4b818828",
   "metadata": {},
   "source": [
    "## 题目 10：卷积神经网络（CNN）图像分类\n",
    "数据：CIFAR-10数据集（10 类彩色图像，5 万训练样本）。\n",
    "\n",
    "任务：\n",
    "\n",
    "1.构建简单 CNN 架构（卷积层 + 池化层 + 全连接层），使用数据增强（旋转、缩放）。\n",
    "\n",
    "2.训练模型并在测试集上评估准确率，对比纯全连接网络的性能差异。\n",
    "\n",
    "3.可视化部分错误预测样本，分析模型分类失败的原因。"
   ]
  },
  {
   "cell_type": "code",
   "execution_count": null,
   "id": "42a4c854",
   "metadata": {},
   "outputs": [],
   "source": []
  },
  {
   "cell_type": "markdown",
   "id": "c1f06f62",
   "metadata": {},
   "source": [
    "# 六、高级专题（选做）\n",
    "## 题目 11：自然语言处理（文本分类）\n",
    "数据：IMDB 影评数据集（正负向情感分类）。\n",
    "\n",
    "任务：\n",
    "\n",
    "1.使用 TF-IDF 或 Word2Vec 提取文本特征，构建词向量矩阵。\n",
    "\n",
    "2.用 LSTM 或 Transformer 模型进行情感分类，输出分类报告。\n",
    "\n",
    "3.尝试使用预训练模型（如 BERT）微调，对比传统 NLP 模型的效果。"
   ]
  },
  {
   "cell_type": "code",
   "execution_count": null,
   "id": "4cf81d4a",
   "metadata": {},
   "outputs": [],
   "source": []
  },
  {
   "cell_type": "markdown",
   "id": "a819af8f",
   "metadata": {},
   "source": [
    "## 题目 12：强化学习（Q-learning）\n",
    "环境：gym库的CartPole-v1平衡杆游戏。\n",
    "\n",
    "任务：\n",
    "\n",
    "1.实现 Q-learning 算法，定义状态空间、动作空间和奖励函数。\n",
    "\n",
    "2.训练智能体完成平衡杆任务，记录平均奖励随训练次数的变化曲线。\n",
    "\n",
    "3.尝试优化算法（如使用神经网络近似 Q 值，即 DQN）。"
   ]
  },
  {
   "cell_type": "code",
   "execution_count": null,
   "id": "5a076af8",
   "metadata": {},
   "outputs": [],
   "source": []
  }
 ],
 "metadata": {
  "kernelspec": {
   "display_name": "Python 3",
   "language": "python",
   "name": "python3"
  },
  "language_info": {
   "name": "python",
   "version": "3.9.6"
  }
 },
 "nbformat": 4,
 "nbformat_minor": 5
}
