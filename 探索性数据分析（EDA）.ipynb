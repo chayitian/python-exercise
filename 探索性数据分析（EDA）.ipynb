{
 "cells": [
  {
   "cell_type": "markdown",
   "id": "47e59206",
   "metadata": {},
   "source": [
    "# 一、数据加载与初步观察\n",
    "## 题目 1：加载数据与基础信息查看\n",
    "任务：\n",
    "\n",
    "1.加载钻石数据集（diamonds.csv，包含carat, cut, color, clarity, depth, price等字段）\n",
    "\n",
    "2.查看前 5 行、数据形状、数据类型、缺失值分布\n",
    "\n",
    "3.统计分类型变量（cut, color, clarity）的唯一值数量\n",
    "\n",
    "### 预期输出：\n",
    "缺失值：无（若数据集干净）\n",
    "\n",
    "cut唯一值：['Ideal', 'Premium', 'Very Good', 'Good', 'Fair']"
   ]
  },
  {
   "cell_type": "code",
   "execution_count": null,
   "id": "fd0e28e5",
   "metadata": {},
   "outputs": [],
   "source": []
  },
  {
   "cell_type": "markdown",
   "id": "9bf09152",
   "metadata": {},
   "source": [
    "## 题目 2：统计描述与异常值初判\n",
    "任务：\n",
    "\n",
    "1.对数值型变量（carat, depth, price）生成描述性统计（均值、中位数、四分位数、标准差）\n",
    "\n",
    "2.通过箱线图初步观察carat和price的异常值分布\n",
    "### 预期输出：\n",
    "carat箱线图显示大于 3 的值为异常值，price存在极高值（如 > 15000）"
   ]
  },
  {
   "cell_type": "code",
   "execution_count": null,
   "id": "c80d824e",
   "metadata": {},
   "outputs": [],
   "source": []
  },
  {
   "cell_type": "markdown",
   "id": "733e4d37",
   "metadata": {},
   "source": [
    "# 二、数据清洗与预处理（EDA 辅助步骤）\n",
    "## 题目 3：处理异常值与缺失值\n",
    "任务：\n",
    "\n",
    "1.用 Z-score 方法识别price的异常值（阈值 ±3），并标记为NaN\n",
    "\n",
    "2.用中位数填充depth的缺失值（若有）\n",
    "\n",
    "3.将cut转换为有序分类变量（Fair→1，Good→2，…，Ideal→5）"
   ]
  },
  {
   "cell_type": "code",
   "execution_count": null,
   "id": "b612212a",
   "metadata": {},
   "outputs": [],
   "source": []
  },
  {
   "cell_type": "markdown",
   "id": "6e5d5bc3",
   "metadata": {},
   "source": [
    "## 题目 4：特征衍生与转换\n",
    "任务：\n",
    "\n",
    "1.创建新特征price_per_carat = price / carat\n",
    "\n",
    "2.将color从字母等级（D-E-F…）转换为数值等级（D=6，E=5，…，J=1）\n",
    "### 预期输出：\n",
    "新列：price_per_carat, color_rank"
   ]
  },
  {
   "cell_type": "code",
   "execution_count": null,
   "id": "76a74bcc",
   "metadata": {},
   "outputs": [],
   "source": []
  },
  {
   "cell_type": "markdown",
   "id": "b2791734",
   "metadata": {},
   "source": [
    "# 三、单变量分析（Univariate Analysis）\n",
    "## 题目 5：数值型变量分布分析\n",
    "任务：\n",
    "\n",
    "1.绘制carat的直方图（bins=20）和核密度图（KDE），分析分布形态\n",
    "\n",
    "2.用箱线图展示depth的分布，标注中位数、四分位数范围\n",
    "### 预期输出：\n",
    "carat呈右偏分布，集中在 0.2-1.0 之间；depth中位数约 61.5"
   ]
  },
  {
   "cell_type": "code",
   "execution_count": null,
   "id": "f2739bec",
   "metadata": {},
   "outputs": [],
   "source": []
  },
  {
   "cell_type": "markdown",
   "id": "f9e979e7",
   "metadata": {},
   "source": [
    "## 题目 6：分类型变量频率分析\n",
    "任务：\n",
    "\n",
    "1.用柱状图展示cut的各等级样本数量，按频率降序排列\n",
    "\n",
    "2.用饼图展示color的分布比例，突出占比前 3 的颜色\n",
    "### 预期输出：\n",
    "Ideal和Premium占比最高，Fair最少；color中G/H/I占比超 60%"
   ]
  },
  {
   "cell_type": "code",
   "execution_count": null,
   "id": "c2cad8ab",
   "metadata": {},
   "outputs": [],
   "source": []
  },
  {
   "cell_type": "markdown",
   "id": "db9bd82c",
   "metadata": {},
   "source": [
    "# 四、双变量分析（Bivariate Analysis）\n",
    "## 题目 7：数值 - 数值变量关系\n",
    "任务：\n",
    "\n",
    "1.用散点图分析carat与price的相关性，添加趋势线\n",
    "\n",
    "2.计算两者的 Pearson 相关系数和 Spearman 秩相关系数\n",
    "### 预期输出：\n",
    "强正相关，Pearson 系数≈0.92，Spearman≈0.88"
   ]
  },
  {
   "cell_type": "code",
   "execution_count": null,
   "id": "da8aab57",
   "metadata": {},
   "outputs": [],
   "source": []
  },
  {
   "cell_type": "markdown",
   "id": "5082fce0",
   "metadata": {},
   "source": [
    "## 题目 8：分类 - 数值变量关系\n",
    "任务：\n",
    "\n",
    "1.用箱线图对比不同cut等级的price分布\n",
    "\n",
    "2.用小提琴图展示不同color的carat分布差异\n",
    "### 预期输出：\n",
    "Ideal切割的价格分布整体更高，color等级越高（D→J），carat倾向于更小"
   ]
  },
  {
   "cell_type": "code",
   "execution_count": null,
   "id": "b59980bd",
   "metadata": {},
   "outputs": [],
   "source": []
  },
  {
   "cell_type": "markdown",
   "id": "538f6d6b",
   "metadata": {},
   "source": [
    "# 五、多变量分析（Multivariate Analysis）\n",
    "## 题目 9：多变量可视化\n",
    "任务：\n",
    "\n",
    "1.用联合图（Joint Plot）分析carat, price, color的关系（颜色映射color等级）\n",
    "\n",
    "2.用热力图展示数值型变量的相关系数矩阵，标注绝对值 > 0.5 的系数\n",
    "### 预期输出：\n",
    "carat与price_per_carat负相关（因price_per_carat=price/carat），depth与price弱相关"
   ]
  },
  {
   "cell_type": "code",
   "execution_count": null,
   "id": "7a16ff86",
   "metadata": {},
   "outputs": [],
   "source": []
  },
  {
   "cell_type": "markdown",
   "id": "f3e2f6a1",
   "metadata": {},
   "source": [
    "## 题目 10：分组聚合与模式识别\n",
    "任务：\n",
    "\n",
    "1.按cut和color分组，计算每组price的均值、中位数、样本量\n",
    "\n",
    "2.筛选出price均值 > 5000 的组，分析其共同特征（如切割等级、颜色等级）\n",
    "### 预期输出：\n",
    "高价位组集中在Ideal/Premium切割和D/E/F颜色等级"
   ]
  },
  {
   "cell_type": "code",
   "execution_count": null,
   "id": "9744438c",
   "metadata": {},
   "outputs": [],
   "source": []
  },
  {
   "cell_type": "markdown",
   "id": "5b38c82e",
   "metadata": {},
   "source": [
    "# 六、统计检验与假设验证\n",
    "## 题目 11：独立样本 t 检验\n",
    "任务：\n",
    "\n",
    "检验cut为Ideal和Fair的price均值是否有显著差异（α=0.05）\n",
    "### 预期结果：\n",
    "p 值≈0，拒绝原假设，存在显著差异"
   ]
  },
  {
   "cell_type": "code",
   "execution_count": null,
   "id": "f81d528d",
   "metadata": {},
   "outputs": [],
   "source": []
  },
  {
   "cell_type": "markdown",
   "id": "c8ba67d3",
   "metadata": {},
   "source": [
    "## 题目 12：卡方检验（分类变量相关性）\n",
    "任务：\n",
    "\n",
    "检验cut等级与clarity（净度）是否相关（如Ideal切割是否更常见于高净度）\n",
    "### 预期结果：\n",
    "p 值 < 0.05，拒绝独立假设，两者相关"
   ]
  },
  {
   "cell_type": "code",
   "execution_count": null,
   "id": "9f4c4373",
   "metadata": {},
   "outputs": [],
   "source": []
  },
  {
   "cell_type": "markdown",
   "id": "82a96730",
   "metadata": {},
   "source": [
    "# 七、综合实战：完整 EDA 流程\n",
    "## 题目 13：泰坦尼克号生存分析\n",
    "数据：使用titanic.csv，目标分析Survived的影响因素\n",
    "\n",
    "任务流程：\n",
    "\n",
    "1.数据加载与清洗：\n",
    "\n",
    "    处理Age、Embarked缺失值，编码Sex、Embarked\n",
    "\n",
    "2.单变量分析：\n",
    "\n",
    "    绘制Survived分布、Age直方图、Pclass频率柱状图\n",
    "\n",
    "3.双变量分析：\n",
    "\n",
    "    用箱线图对比生存与非生存者的Fare分布\n",
    "\n",
    "    用堆叠柱状图展示Sex与Survived的关系\n",
    "\n",
    "4.多变量分析：\n",
    "\n",
    "    用热力图分析Pclass, Age, Fare, FamilySize的相关性\n",
    "\n",
    "    用分面图（Facet Grid）展示不同Pclass中Age与Survival的关系\n",
    "\n",
    "5.关键结论：\n",
    "    女性、高客舱等级、家庭规模适中（2-4 人）的乘客生存概率更高"
   ]
  },
  {
   "cell_type": "code",
   "execution_count": null,
   "id": "b46604da",
   "metadata": {},
   "outputs": [],
   "source": []
  }
 ],
 "metadata": {
  "kernelspec": {
   "display_name": "Python 3",
   "language": "python",
   "name": "python3"
  },
  "language_info": {
   "name": "python",
   "version": "3.9.6"
  }
 },
 "nbformat": 4,
 "nbformat_minor": 5
}
