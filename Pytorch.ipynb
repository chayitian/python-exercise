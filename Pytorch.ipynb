{
 "cells": [
  {
   "cell_type": "markdown",
   "id": "a8e3d64e",
   "metadata": {},
   "source": [
    "# 一、PyTorch 基础：张量与自动微分\n",
    "## 题目 1：张量操作与运算\n",
    "任务：\n",
    "\n",
    "1.创建全零张量a（形状 3×3）和随机张量b（形状 3×3，值范围 0-1）\n",
    "\n",
    "2.计算a与b的逐元素乘积、矩阵乘法\n",
    "\n",
    "3.将结果张量移至 GPU（若可用）并打印设备位置"
   ]
  },
  {
   "cell_type": "code",
   "execution_count": null,
   "id": "29dc494e",
   "metadata": {},
   "outputs": [],
   "source": []
  },
  {
   "cell_type": "markdown",
   "id": "37adbe67",
   "metadata": {},
   "source": [
    "## 题目 2：自动微分与梯度计算\n",
    "任务：\n",
    "\n",
    "1.定义函数y = 3x² + 2x + 1，其中x为可训练参数（初始值 2.0）\n",
    "\n",
    "2.计算y关于x的梯度（即导数 dy/dx）\n",
    "\n",
    "3.使用梯度更新x值（学习率 0.1）"
   ]
  },
  {
   "cell_type": "code",
   "execution_count": null,
   "id": "57553907",
   "metadata": {},
   "outputs": [],
   "source": []
  },
  {
   "cell_type": "markdown",
   "id": "593d18fd",
   "metadata": {},
   "source": [
    "# 二、神经网络基础\n",
    "## 题目 3：构建简单神经网络（全连接层）\n",
    "任务：\n",
    "\n",
    "设计一个三层神经网络，输入维度 784，隐藏层维度 128 和 64，输出维度 10\n",
    "\n",
    "    隐藏层使用 ReLU 激活函数，输出层使用 Softmax\n",
    "\n",
    "    随机生成一个输入张量，通过网络前向传播并打印输出形状"
   ]
  },
  {
   "cell_type": "code",
   "execution_count": null,
   "id": "d0028e0f",
   "metadata": {},
   "outputs": [],
   "source": []
  },
  {
   "cell_type": "markdown",
   "id": "85654b9c",
   "metadata": {},
   "source": [
    "## 题目 4：自定义数据集与数据加载\n",
    "任务：\n",
    "\n",
    "1.创建自定义数据集类MyDataset，加载data.csv（两列：特征和标签）\n",
    "\n",
    "2.使用DataLoader批处理数据（batch_size=32，打乱顺序）\n",
    "\n",
    "3.迭代数据加载器，打印第一批数据的形状"
   ]
  },
  {
   "cell_type": "code",
   "execution_count": null,
   "id": "a1e50f26",
   "metadata": {},
   "outputs": [],
   "source": []
  },
  {
   "cell_type": "markdown",
   "id": "3557e7b1",
   "metadata": {},
   "source": [
    "# 三、模型训练流程\n",
    "## 题目 5：手写数字识别（MNIST）\n",
    "任务：\n",
    "\n",
    "1.加载 MNIST 数据集，预处理图像（标准化）\n",
    "\n",
    "2.构建简单 CNN 模型（卷积层→池化层→全连接层）\n",
    "\n",
    "3.训练模型（10 个 epoch），使用交叉熵损失和 Adam 优化器\n",
    "\n",
    "4.在测试集上评估准确率\n",
    "### 预期准确率：\n",
    "约 98%"
   ]
  },
  {
   "cell_type": "code",
   "execution_count": null,
   "id": "e2d25948",
   "metadata": {},
   "outputs": [],
   "source": []
  },
  {
   "cell_type": "markdown",
   "id": "35d7f131",
   "metadata": {},
   "source": [
    "## 题目 6：模型保存与加载\n",
    "任务：\n",
    "\n",
    "1.保存训练好的 MNIST 模型到mnist_model.pt\n",
    "\n",
    "2.加载模型并在测试集上验证准确率"
   ]
  },
  {
   "cell_type": "code",
   "execution_count": null,
   "id": "b12d36de",
   "metadata": {},
   "outputs": [],
   "source": []
  },
  {
   "cell_type": "markdown",
   "id": "ddd341bf",
   "metadata": {},
   "source": [
    "# 四、计算机视觉进阶\n",
    "## 题目 7：图像分类（CIFAR-10）\n",
    "任务：\n",
    "\n",
    "1.加载 CIFAR-10 数据集（10 类彩色图像）\n",
    "\n",
    "2.构建 ResNet-18 模型（使用预训练权重）\n",
    "\n",
    "3.微调模型（冻结部分层）并训练 5 个 epoch\n",
    "\n",
    "4.可视化预测结果（正确 / 错误分类示例）\n",
    "\n",
    "### 预期准确率：\n",
    "约 85%"
   ]
  },
  {
   "cell_type": "code",
   "execution_count": null,
   "id": "a377dfe7",
   "metadata": {},
   "outputs": [],
   "source": []
  },
  {
   "cell_type": "markdown",
   "id": "667c590f",
   "metadata": {},
   "source": [
    "## 题目 8：语义分割（U-Net）\n",
    "任务：\n",
    "\n",
    "1.使用 CamVid 数据集（道路场景分割）\n",
    "\n",
    "2.实现 U-Net 架构（编码器 - 解码器结构）\n",
    "\n",
    "3.训练模型并计算 IoU（交并比）评估指标\n",
    "\n",
    "关键组件：\n",
    "\n",
    "    编码器：使用预训练 ResNet 提取特征\n",
    "\n",
    "    解码器：通过上采样恢复空间分辨率\n",
    "\n",
    "    损失函数：交叉熵损失或 Dice 损失"
   ]
  },
  {
   "cell_type": "code",
   "execution_count": null,
   "id": "f822d0e7",
   "metadata": {},
   "outputs": [],
   "source": []
  },
  {
   "cell_type": "markdown",
   "id": "12e34da4",
   "metadata": {},
   "source": [
    "# 五、自然语言处理（NLP）\n",
    "## 题目 9：文本分类（IMDB 影评）\n",
    "任务：\n",
    "\n",
    "1.加载 IMDB 影评数据集（积极 / 消极二分类）\n",
    "\n",
    "2.构建 LSTM 模型进行情感分析\n",
    "\n",
    "3.实现文本预处理（分词、词表构建、填充）\n",
    "\n",
    "4.训练模型并计算准确率\n",
    "### 预期准确率：\n",
    "约 85%"
   ]
  },
  {
   "cell_type": "code",
   "execution_count": null,
   "id": "9c90efa8",
   "metadata": {},
   "outputs": [],
   "source": []
  },
  {
   "cell_type": "markdown",
   "id": "9b899ea7",
   "metadata": {},
   "source": [
    "## 题目 10：序列到序列模型（机器翻译）\n",
    "任务：\n",
    "\n",
    "1.使用 Multi30k 数据集（德语→英语翻译）\n",
    "\n",
    "2.实现带注意力机制的 Seq2Seq 模型\n",
    "\n",
    "3.使用 BLEU 分数评估翻译质量\n",
    "\n",
    "核心组件：\n",
    "\n",
    "    编码器：双向 GRU 处理源语言序列\n",
    "\n",
    "    注意力机制：计算解码器对编码器各位置的关注权重\n",
    "\n",
    "    解码器：生成目标语言序列"
   ]
  },
  {
   "cell_type": "code",
   "execution_count": null,
   "id": "41ae5ce9",
   "metadata": {},
   "outputs": [],
   "source": []
  },
  {
   "cell_type": "markdown",
   "id": "7a8ec14e",
   "metadata": {},
   "source": [
    "# 六、高级主题\n",
    "## 题目 11：生成对抗网络（GAN）\n",
    "任务：\n",
    "\n",
    "1.使用 MNIST 数据集训练 DCGAN（深度卷积 GAN）\n",
    "\n",
    "2.生成手写数字图像并可视化结果\n",
    "\n",
    "关键架构：\n",
    "\n",
    "    生成器：将随机噪声映射为图像\n",
    "\n",
    "    判别器：区分真实图像与生成图像\n",
    "\n",
    "    对抗训练：交替优化两个网络"
   ]
  },
  {
   "cell_type": "code",
   "execution_count": null,
   "id": "2a5e8b72",
   "metadata": {},
   "outputs": [],
   "source": []
  },
  {
   "cell_type": "markdown",
   "id": "6708bd20",
   "metadata": {},
   "source": [
    "## 题目 12：迁移学习（图像分类）\n",
    "任务：\n",
    "\n",
    "1.使用预训练的 VGG16 模型\n",
    "\n",
    "2.针对自定义数据集（如宠物分类）微调模型\n",
    "\n",
    "3.比较不同微调策略的性能差异\n",
    "\n",
    "微调策略：\n",
    "\n",
    "    冻结所有卷积层，仅训练全连接层\n",
    "    冻结部分卷积层，微调剩余层\n",
    "    端到端训练所有层"
   ]
  },
  {
   "cell_type": "code",
   "execution_count": null,
   "id": "0d371705",
   "metadata": {},
   "outputs": [],
   "source": []
  },
  {
   "cell_type": "markdown",
   "id": "3b176aad",
   "metadata": {},
   "source": [
    "# 七、实战项目：图像风格迁移\n",
    "## 题目 13：基于 PyTorch 实现 Neural Style Transfer\n",
    "任务：\n",
    "\n",
    "1.实现 Gatys 等人提出的风格迁移算法\n",
    "\n",
    "2.使用 VGG 网络提取内容和风格特征\n",
    "\n",
    "3.优化生成图像，同时保留内容和风格"
   ]
  },
  {
   "cell_type": "code",
   "execution_count": null,
   "id": "61149e76",
   "metadata": {},
   "outputs": [],
   "source": []
  }
 ],
 "metadata": {
  "kernelspec": {
   "display_name": "Python 3",
   "language": "python",
   "name": "python3"
  },
  "language_info": {
   "name": "python",
   "version": "3.9.6"
  }
 },
 "nbformat": 4,
 "nbformat_minor": 5
}
